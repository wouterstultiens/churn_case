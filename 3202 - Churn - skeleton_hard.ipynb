{
 "cells": [
  {
   "cell_type": "markdown",
   "metadata": {},
   "source": [
    "# Customer churn with a classifcation model"
   ]
  },
  {
   "cell_type": "markdown",
   "metadata": {},
   "source": [
    "<a id=\"1\"></a> \n",
    "\n",
    "## 1. Install packages and load data"
   ]
  },
  {
   "cell_type": "code",
   "execution_count": null,
   "metadata": {},
   "outputs": [],
   "source": [
    "# a) Install packages\n",
    "import pandas as pd       # 'as' := we abbreviate the package for common use\n",
    "import numpy as np\n",
    "import seaborn as sns\n",
    "import random\n",
    "import os\n",
    "import math\n",
    "import matplotlib.pyplot as plt \n",
    "import datetime\n",
    "import collections\n",
    "import scipy.stats as stats                             # Fit of distribution plot\n",
    "from sklearn.model_selection import train_test_split    # Split train-/testset     \n",
    "from sklearn.tree import DecisionTreeClassifier         # Modeling CART Decision Tree  \n",
    "from sklearn import metrics                             # Performance metrics\n",
    "from sklearn.metrics import accuracy_score              # Accuracy of a model\n",
    "from sklearn.metrics import classification_report       # Performance report of a classification model\n",
    "from sklearn.metrics import f1_score,average_precision_score                    # f1 score of model\n",
    "from imblearn.over_sampling import SMOTE, RandomOverSampler\n",
    "from imblearn.under_sampling import RandomUnderSampler,TomekLinks\n",
    "from sklearn.metrics import precision_recall_curve, auc\n",
    "\n",
    "import graphviz as gv                                   # Needed to graph Decision Tree\n",
    "import pydotplus                                        # Needed to graph Decision Tree\n",
    "from IPython.display import Image                       # Needed to graph Decision Tree\n",
    "from six import StringIO                                # Needed to graph Decision Tree\n",
    "from sklearn.tree import export_graphviz                # Needed to graph Decision Tree\n",
    "from sklearn.ensemble import RandomForestClassifier     # Modeling Random Forest\n",
    "from sklearn.ensemble import AdaBoostClassifier         # Modeling AdaBoost \n",
    "from sklearn.ensemble import GradientBoostingClassifier # Modeling XGBoost\n",
    "from sklearn.model_selection import KFold               # Cross-validation using stratified K-fold\n",
    "from sklearn.model_selection import RandomizedSearchCV  # Randomized searching through a parameter grid"
   ]
  },
  {
   "cell_type": "code",
   "execution_count": null,
   "metadata": {},
   "outputs": [],
   "source": [
    "# b) Load data\n",
    "\n",
    "inputdata = pd.read_csv(\"Churn_Modelling.csv\")\n",
    "\n",
    "#    Get an overview of the data\n",
    "inputdata.head(10)"
   ]
  },
  {
   "cell_type": "markdown",
   "metadata": {},
   "source": [
    "**We got these average precision scores:** <br>\n",
    "\n",
    "| Model | Avg. precision      |\n",
    "|-------|--------------------:|\n",
    "| 1. Decision Tree | 0.341324 |\n",
    "| 2. Random Forest | 0.389097 |\n",
    "| 3. Adaboost      | 0.379828 |\n",
    "| 4. XGBoost       | 0.407568 |\n",
    "\n",
    "**Can you improve it?**"
   ]
  },
  {
   "cell_type": "markdown",
   "metadata": {},
   "source": [
    "Try to follow these steps to get to the solution. <br>\n",
    "**Content:**\n",
    "1. [Install packages and load data](#1)\n",
    "1. [Data Exploration](#2)\n",
    "1. [Data Preparation](#3)\n",
    "1. [Feature Engineering](#4)\n",
    "1. [Multivariate Analysis ](#5)\n",
    "1. [Split into train- and testset](#6)\n",
    "1. [Train and validate models](#7)\n",
    "1. [K-fold cross validation](#8)\n",
    "1. [Advanced Models I: LightGBM](#9)\n",
    "1. [Advanced Models II: CatBoost](#10)"
   ]
  },
  {
   "cell_type": "code",
   "execution_count": null,
   "metadata": {},
   "outputs": [],
   "source": []
  }
 ],
 "metadata": {
  "kernelspec": {
   "display_name": "Python 3 (ipykernel)",
   "language": "python",
   "name": "python3"
  },
  "language_info": {
   "codemirror_mode": {
    "name": "ipython",
    "version": 3
   },
   "file_extension": ".py",
   "mimetype": "text/x-python",
   "name": "python",
   "nbconvert_exporter": "python",
   "pygments_lexer": "ipython3",
   "version": "3.9.12"
  }
 },
 "nbformat": 4,
 "nbformat_minor": 2
}
