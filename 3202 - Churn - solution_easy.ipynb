{
 "cells": [
  {
   "cell_type": "markdown",
   "metadata": {
    "id": "r9kvaasRq8qa"
   },
   "source": [
    "# Customer churn with a classifcation model"
   ]
  },
  {
   "cell_type": "markdown",
   "metadata": {
    "id": "glsthGVaq8qb"
   },
   "source": [
    "**Content:**\n",
    "1. [Install packages and load data](#1)\n",
    "1. [Data Exploration](#2)\n",
    "1. [Data Preparation](#3)\n",
    "1. [Feature Engineering](#4)\n",
    "1. [Multivariate Analysis ](#5)\n",
    "1. [Split into train- and testset](#6)\n",
    "1. [Train and validate models](#7)\n",
    "1. [K-fold cross validation](#8)\n",
    "1. [Advanced Models I: LightGBM](#9)\n",
    "1. [Advanced Models II: CatBoost](#10)"
   ]
  },
  {
   "cell_type": "markdown",
   "metadata": {
    "id": "7YhRXUjAq8qb"
   },
   "source": [
    "<a id=\"1\"></a> \n",
    "\n",
    "\n",
    "## 1. Install packages and load data"
   ]
  },
  {
   "cell_type": "code",
   "execution_count": 150,
   "metadata": {
    "colab": {
     "base_uri": "https://localhost:8080/"
    },
    "id": "oXIOA6YWq8qc",
    "outputId": "4150ee29-f015-43b8-c199-5a06e907b637"
   },
   "outputs": [],
   "source": [
    "# a) Install packages\n",
    "import pandas as pd       # 'as' := we abbreviate the package for common use\n",
    "import numpy as np\n",
    "import seaborn as sns\n",
    "import random\n",
    "import os\n",
    "import math\n",
    "import matplotlib.pyplot as plt \n",
    "import datetime\n",
    "import collections\n",
    "import scipy.stats as stats                             # Fit of distribution plot\n",
    "from sklearn.model_selection import train_test_split    # Split train-/testset     \n",
    "from sklearn.tree import DecisionTreeClassifier         # Modeling CART Decision Tree  \n",
    "from sklearn import metrics                             # Performance metrics\n",
    "from sklearn.metrics import accuracy_score              # Accuracy of a model\n",
    "from sklearn.metrics import classification_report       # Performance report of a classification model\n",
    "from sklearn.metrics import f1_score,average_precision_score                    # f1 score of model\n",
    "from imblearn.over_sampling import SMOTE, RandomOverSampler\n",
    "from imblearn.under_sampling import RandomUnderSampler,TomekLinks\n",
    "from sklearn.metrics import precision_recall_curve, auc\n",
    "\n",
    "import graphviz as gv                                   # Needed to graph Decision Tree\n",
    "import pydotplus                                        # Needed to graph Decision Tree\n",
    "from IPython.display import Image                       # Needed to graph Decision Tree\n",
    "from six import StringIO                                # Needed to graph Decision Tree\n",
    "from sklearn.tree import export_graphviz                # Needed to graph Decision Tree\n",
    "from sklearn.ensemble import RandomForestClassifier     # Modeling Random Forest\n",
    "from sklearn.ensemble import AdaBoostClassifier         # Modeling AdaBoost \n",
    "from sklearn.ensemble import GradientBoostingClassifier # Modeling XGBoost\n",
    "from sklearn.model_selection import KFold               # Cross-validation using stratified K-fold\n",
    "from sklearn.model_selection import RandomizedSearchCV  # Randomized searching through a parameter grid"
   ]
  },
  {
   "cell_type": "code",
   "execution_count": 151,
   "metadata": {
    "colab": {
     "base_uri": "https://localhost:8080/",
     "height": 340
    },
    "id": "UYM5L0MFq8qf",
    "outputId": "ce05e602-5823-456c-ecb4-a2966f34a796"
   },
   "outputs": [
    {
     "data": {
      "text/html": [
       "<div>\n",
       "<style scoped>\n",
       "    .dataframe tbody tr th:only-of-type {\n",
       "        vertical-align: middle;\n",
       "    }\n",
       "\n",
       "    .dataframe tbody tr th {\n",
       "        vertical-align: top;\n",
       "    }\n",
       "\n",
       "    .dataframe thead th {\n",
       "        text-align: right;\n",
       "    }\n",
       "</style>\n",
       "<table border=\"1\" class=\"dataframe\">\n",
       "  <thead>\n",
       "    <tr style=\"text-align: right;\">\n",
       "      <th></th>\n",
       "      <th>RowNumber</th>\n",
       "      <th>CustomerId</th>\n",
       "      <th>Surname</th>\n",
       "      <th>CreditScore</th>\n",
       "      <th>Geography</th>\n",
       "      <th>Gender</th>\n",
       "      <th>Age</th>\n",
       "      <th>Tenure</th>\n",
       "      <th>Balance</th>\n",
       "      <th>NumOfProducts</th>\n",
       "      <th>HasCrCard</th>\n",
       "      <th>IsActiveMember</th>\n",
       "      <th>EstimatedSalary</th>\n",
       "      <th>Exited</th>\n",
       "    </tr>\n",
       "  </thead>\n",
       "  <tbody>\n",
       "    <tr>\n",
       "      <th>0</th>\n",
       "      <td>6038</td>\n",
       "      <td>15626452</td>\n",
       "      <td>Beatham</td>\n",
       "      <td>711</td>\n",
       "      <td>Spain</td>\n",
       "      <td>Male</td>\n",
       "      <td>32.0</td>\n",
       "      <td>5</td>\n",
       "      <td>0.00</td>\n",
       "      <td>2.0</td>\n",
       "      <td>1</td>\n",
       "      <td>1</td>\n",
       "      <td>147720.27</td>\n",
       "      <td>0</td>\n",
       "    </tr>\n",
       "    <tr>\n",
       "      <th>1</th>\n",
       "      <td>6553</td>\n",
       "      <td>15636407</td>\n",
       "      <td>Beatham</td>\n",
       "      <td>793</td>\n",
       "      <td>Germany</td>\n",
       "      <td>Female</td>\n",
       "      <td>34.0</td>\n",
       "      <td>5</td>\n",
       "      <td>127758.09</td>\n",
       "      <td>1.0</td>\n",
       "      <td>1</td>\n",
       "      <td>0</td>\n",
       "      <td>143357.03</td>\n",
       "      <td>0</td>\n",
       "    </tr>\n",
       "    <tr>\n",
       "      <th>2</th>\n",
       "      <td>6320</td>\n",
       "      <td>15768340</td>\n",
       "      <td>Beavers</td>\n",
       "      <td>642</td>\n",
       "      <td>Germany</td>\n",
       "      <td>Female</td>\n",
       "      <td>19.0</td>\n",
       "      <td>3</td>\n",
       "      <td>113905.48</td>\n",
       "      <td>1.0</td>\n",
       "      <td>1</td>\n",
       "      <td>1</td>\n",
       "      <td>176137.20</td>\n",
       "      <td>0</td>\n",
       "    </tr>\n",
       "    <tr>\n",
       "      <th>3</th>\n",
       "      <td>7917</td>\n",
       "      <td>15610936</td>\n",
       "      <td>Becher</td>\n",
       "      <td>562</td>\n",
       "      <td>France</td>\n",
       "      <td>Male</td>\n",
       "      <td>33.0</td>\n",
       "      <td>6</td>\n",
       "      <td>0.00</td>\n",
       "      <td>2.0</td>\n",
       "      <td>1</td>\n",
       "      <td>0</td>\n",
       "      <td>111590.35</td>\n",
       "      <td>0</td>\n",
       "    </tr>\n",
       "    <tr>\n",
       "      <th>4</th>\n",
       "      <td>9681</td>\n",
       "      <td>15655335</td>\n",
       "      <td>Becher</td>\n",
       "      <td>590</td>\n",
       "      <td>France</td>\n",
       "      <td>Male</td>\n",
       "      <td>36.0</td>\n",
       "      <td>1</td>\n",
       "      <td>0.00</td>\n",
       "      <td>2.0</td>\n",
       "      <td>1</td>\n",
       "      <td>0</td>\n",
       "      <td>48876.84</td>\n",
       "      <td>0</td>\n",
       "    </tr>\n",
       "    <tr>\n",
       "      <th>5</th>\n",
       "      <td>9229</td>\n",
       "      <td>15749679</td>\n",
       "      <td>Beck</td>\n",
       "      <td>699</td>\n",
       "      <td>France</td>\n",
       "      <td>Male</td>\n",
       "      <td>39.0</td>\n",
       "      <td>2</td>\n",
       "      <td>109724.38</td>\n",
       "      <td>1.0</td>\n",
       "      <td>1</td>\n",
       "      <td>1</td>\n",
       "      <td>180022.39</td>\n",
       "      <td>0</td>\n",
       "    </tr>\n",
       "    <tr>\n",
       "      <th>6</th>\n",
       "      <td>4953</td>\n",
       "      <td>15731543</td>\n",
       "      <td>Becker</td>\n",
       "      <td>679</td>\n",
       "      <td>Spain</td>\n",
       "      <td>Male</td>\n",
       "      <td>58.0</td>\n",
       "      <td>9</td>\n",
       "      <td>109327.65</td>\n",
       "      <td>1.0</td>\n",
       "      <td>1</td>\n",
       "      <td>1</td>\n",
       "      <td>3829.13</td>\n",
       "      <td>0</td>\n",
       "    </tr>\n",
       "    <tr>\n",
       "      <th>7</th>\n",
       "      <td>2165</td>\n",
       "      <td>15794479</td>\n",
       "      <td>Becker</td>\n",
       "      <td>767</td>\n",
       "      <td>Spain</td>\n",
       "      <td>Male</td>\n",
       "      <td>NaN</td>\n",
       "      <td>8</td>\n",
       "      <td>149083.70</td>\n",
       "      <td>1.0</td>\n",
       "      <td>1</td>\n",
       "      <td>1</td>\n",
       "      <td>190146.83</td>\n",
       "      <td>0</td>\n",
       "    </tr>\n",
       "    <tr>\n",
       "      <th>8</th>\n",
       "      <td>2647</td>\n",
       "      <td>15582944</td>\n",
       "      <td>Becker</td>\n",
       "      <td>425</td>\n",
       "      <td>Spain</td>\n",
       "      <td>Female</td>\n",
       "      <td>39.0</td>\n",
       "      <td>5</td>\n",
       "      <td>0.00</td>\n",
       "      <td>2.0</td>\n",
       "      <td>1</td>\n",
       "      <td>0</td>\n",
       "      <td>140941.47</td>\n",
       "      <td>0</td>\n",
       "    </tr>\n",
       "    <tr>\n",
       "      <th>9</th>\n",
       "      <td>878</td>\n",
       "      <td>15800228</td>\n",
       "      <td>Bednall</td>\n",
       "      <td>652</td>\n",
       "      <td>Spain</td>\n",
       "      <td>Female</td>\n",
       "      <td>42.0</td>\n",
       "      <td>4</td>\n",
       "      <td>0.00</td>\n",
       "      <td>NaN</td>\n",
       "      <td>1</td>\n",
       "      <td>1</td>\n",
       "      <td>38152.01</td>\n",
       "      <td>0</td>\n",
       "    </tr>\n",
       "  </tbody>\n",
       "</table>\n",
       "</div>"
      ],
      "text/plain": [
       "   RowNumber  CustomerId  Surname  CreditScore Geography  Gender   Age  \\\n",
       "0       6038    15626452  Beatham          711     Spain    Male  32.0   \n",
       "1       6553    15636407  Beatham          793   Germany  Female  34.0   \n",
       "2       6320    15768340  Beavers          642   Germany  Female  19.0   \n",
       "3       7917    15610936   Becher          562    France    Male  33.0   \n",
       "4       9681    15655335   Becher          590    France    Male  36.0   \n",
       "5       9229    15749679     Beck          699    France    Male  39.0   \n",
       "6       4953    15731543   Becker          679     Spain    Male  58.0   \n",
       "7       2165    15794479   Becker          767     Spain    Male   NaN   \n",
       "8       2647    15582944   Becker          425     Spain  Female  39.0   \n",
       "9        878    15800228  Bednall          652     Spain  Female  42.0   \n",
       "\n",
       "   Tenure    Balance  NumOfProducts  HasCrCard  IsActiveMember  \\\n",
       "0       5       0.00            2.0          1               1   \n",
       "1       5  127758.09            1.0          1               0   \n",
       "2       3  113905.48            1.0          1               1   \n",
       "3       6       0.00            2.0          1               0   \n",
       "4       1       0.00            2.0          1               0   \n",
       "5       2  109724.38            1.0          1               1   \n",
       "6       9  109327.65            1.0          1               1   \n",
       "7       8  149083.70            1.0          1               1   \n",
       "8       5       0.00            2.0          1               0   \n",
       "9       4       0.00            NaN          1               1   \n",
       "\n",
       "   EstimatedSalary  Exited  \n",
       "0        147720.27       0  \n",
       "1        143357.03       0  \n",
       "2        176137.20       0  \n",
       "3        111590.35       0  \n",
       "4         48876.84       0  \n",
       "5        180022.39       0  \n",
       "6          3829.13       0  \n",
       "7        190146.83       0  \n",
       "8        140941.47       0  \n",
       "9         38152.01       0  "
      ]
     },
     "execution_count": 151,
     "metadata": {},
     "output_type": "execute_result"
    }
   ],
   "source": [
    "# b) Load data\n",
    "\n",
    "inputdata = pd.read_csv(\"Churn_Modelling_undersampled.csv\")\n",
    "\n",
    "#    Get an overview of the data\n",
    "inputdata.head(10)"
   ]
  },
  {
   "cell_type": "markdown",
   "metadata": {
    "id": "Wbs4dKRdq8qp"
   },
   "source": [
    "<a id=\"2\"></a> \n",
    "\n",
    "\n",
    "## 2. Data Exploration "
   ]
  },
  {
   "cell_type": "code",
   "execution_count": 152,
   "metadata": {
    "colab": {
     "base_uri": "https://localhost:8080/",
     "height": 300
    },
    "id": "8QGFLS5yq8qp",
    "outputId": "ff1e7d3a-2f11-4e14-f04c-9612eeadf997",
    "scrolled": false
   },
   "outputs": [
    {
     "name": "stdout",
     "output_type": "stream",
     "text": [
      "(nrow, ncol): (2913, 14)\n"
     ]
    },
    {
     "data": {
      "text/html": [
       "<div>\n",
       "<style scoped>\n",
       "    .dataframe tbody tr th:only-of-type {\n",
       "        vertical-align: middle;\n",
       "    }\n",
       "\n",
       "    .dataframe tbody tr th {\n",
       "        vertical-align: top;\n",
       "    }\n",
       "\n",
       "    .dataframe thead th {\n",
       "        text-align: right;\n",
       "    }\n",
       "</style>\n",
       "<table border=\"1\" class=\"dataframe\">\n",
       "  <thead>\n",
       "    <tr style=\"text-align: right;\">\n",
       "      <th></th>\n",
       "      <th>RowNumber</th>\n",
       "      <th>CustomerId</th>\n",
       "      <th>CreditScore</th>\n",
       "      <th>Age</th>\n",
       "      <th>Tenure</th>\n",
       "      <th>Balance</th>\n",
       "      <th>NumOfProducts</th>\n",
       "      <th>HasCrCard</th>\n",
       "      <th>IsActiveMember</th>\n",
       "      <th>EstimatedSalary</th>\n",
       "      <th>Exited</th>\n",
       "    </tr>\n",
       "  </thead>\n",
       "  <tbody>\n",
       "    <tr>\n",
       "      <th>count</th>\n",
       "      <td>2913.000000</td>\n",
       "      <td>2.913000e+03</td>\n",
       "      <td>2913.000000</td>\n",
       "      <td>2584.000000</td>\n",
       "      <td>2913.000000</td>\n",
       "      <td>2913.000000</td>\n",
       "      <td>2634.000000</td>\n",
       "      <td>2913.000000</td>\n",
       "      <td>2913.000000</td>\n",
       "      <td>2913.000000</td>\n",
       "      <td>2913.000000</td>\n",
       "    </tr>\n",
       "    <tr>\n",
       "      <th>mean</th>\n",
       "      <td>5046.405081</td>\n",
       "      <td>1.569137e+07</td>\n",
       "      <td>650.608994</td>\n",
       "      <td>38.209752</td>\n",
       "      <td>4.994851</td>\n",
       "      <td>76045.201177</td>\n",
       "      <td>1.521640</td>\n",
       "      <td>0.694130</td>\n",
       "      <td>0.529351</td>\n",
       "      <td>99230.436038</td>\n",
       "      <td>0.115688</td>\n",
       "    </tr>\n",
       "    <tr>\n",
       "      <th>std</th>\n",
       "      <td>2924.625955</td>\n",
       "      <td>7.232154e+04</td>\n",
       "      <td>96.008928</td>\n",
       "      <td>10.277533</td>\n",
       "      <td>2.871858</td>\n",
       "      <td>62710.821575</td>\n",
       "      <td>0.551649</td>\n",
       "      <td>0.460854</td>\n",
       "      <td>0.499223</td>\n",
       "      <td>57108.982643</td>\n",
       "      <td>0.319906</td>\n",
       "    </tr>\n",
       "    <tr>\n",
       "      <th>min</th>\n",
       "      <td>3.000000</td>\n",
       "      <td>1.556571e+07</td>\n",
       "      <td>350.000000</td>\n",
       "      <td>18.000000</td>\n",
       "      <td>0.000000</td>\n",
       "      <td>0.000000</td>\n",
       "      <td>1.000000</td>\n",
       "      <td>0.000000</td>\n",
       "      <td>0.000000</td>\n",
       "      <td>90.070000</td>\n",
       "      <td>0.000000</td>\n",
       "    </tr>\n",
       "    <tr>\n",
       "      <th>25%</th>\n",
       "      <td>2492.000000</td>\n",
       "      <td>1.562829e+07</td>\n",
       "      <td>586.000000</td>\n",
       "      <td>32.000000</td>\n",
       "      <td>2.000000</td>\n",
       "      <td>0.000000</td>\n",
       "      <td>1.000000</td>\n",
       "      <td>0.000000</td>\n",
       "      <td>0.000000</td>\n",
       "      <td>51358.660000</td>\n",
       "      <td>0.000000</td>\n",
       "    </tr>\n",
       "    <tr>\n",
       "      <th>50%</th>\n",
       "      <td>5039.000000</td>\n",
       "      <td>1.569065e+07</td>\n",
       "      <td>652.000000</td>\n",
       "      <td>37.000000</td>\n",
       "      <td>5.000000</td>\n",
       "      <td>96558.660000</td>\n",
       "      <td>1.000000</td>\n",
       "      <td>1.000000</td>\n",
       "      <td>1.000000</td>\n",
       "      <td>98309.270000</td>\n",
       "      <td>0.000000</td>\n",
       "    </tr>\n",
       "    <tr>\n",
       "      <th>75%</th>\n",
       "      <td>7589.000000</td>\n",
       "      <td>1.575586e+07</td>\n",
       "      <td>717.000000</td>\n",
       "      <td>43.000000</td>\n",
       "      <td>7.000000</td>\n",
       "      <td>127806.910000</td>\n",
       "      <td>2.000000</td>\n",
       "      <td>1.000000</td>\n",
       "      <td>1.000000</td>\n",
       "      <td>147545.650000</td>\n",
       "      <td>0.000000</td>\n",
       "    </tr>\n",
       "    <tr>\n",
       "      <th>max</th>\n",
       "      <td>10000.000000</td>\n",
       "      <td>1.581566e+07</td>\n",
       "      <td>850.000000</td>\n",
       "      <td>85.000000</td>\n",
       "      <td>10.000000</td>\n",
       "      <td>250898.090000</td>\n",
       "      <td>4.000000</td>\n",
       "      <td>1.000000</td>\n",
       "      <td>1.000000</td>\n",
       "      <td>199992.480000</td>\n",
       "      <td>1.000000</td>\n",
       "    </tr>\n",
       "  </tbody>\n",
       "</table>\n",
       "</div>"
      ],
      "text/plain": [
       "          RowNumber    CustomerId  CreditScore          Age       Tenure  \\\n",
       "count   2913.000000  2.913000e+03  2913.000000  2584.000000  2913.000000   \n",
       "mean    5046.405081  1.569137e+07   650.608994    38.209752     4.994851   \n",
       "std     2924.625955  7.232154e+04    96.008928    10.277533     2.871858   \n",
       "min        3.000000  1.556571e+07   350.000000    18.000000     0.000000   \n",
       "25%     2492.000000  1.562829e+07   586.000000    32.000000     2.000000   \n",
       "50%     5039.000000  1.569065e+07   652.000000    37.000000     5.000000   \n",
       "75%     7589.000000  1.575586e+07   717.000000    43.000000     7.000000   \n",
       "max    10000.000000  1.581566e+07   850.000000    85.000000    10.000000   \n",
       "\n",
       "             Balance  NumOfProducts    HasCrCard  IsActiveMember  \\\n",
       "count    2913.000000    2634.000000  2913.000000     2913.000000   \n",
       "mean    76045.201177       1.521640     0.694130        0.529351   \n",
       "std     62710.821575       0.551649     0.460854        0.499223   \n",
       "min         0.000000       1.000000     0.000000        0.000000   \n",
       "25%         0.000000       1.000000     0.000000        0.000000   \n",
       "50%     96558.660000       1.000000     1.000000        1.000000   \n",
       "75%    127806.910000       2.000000     1.000000        1.000000   \n",
       "max    250898.090000       4.000000     1.000000        1.000000   \n",
       "\n",
       "       EstimatedSalary       Exited  \n",
       "count      2913.000000  2913.000000  \n",
       "mean      99230.436038     0.115688  \n",
       "std       57108.982643     0.319906  \n",
       "min          90.070000     0.000000  \n",
       "25%       51358.660000     0.000000  \n",
       "50%       98309.270000     0.000000  \n",
       "75%      147545.650000     0.000000  \n",
       "max      199992.480000     1.000000  "
      ]
     },
     "execution_count": 152,
     "metadata": {},
     "output_type": "execute_result"
    }
   ],
   "source": [
    "# a) Get an overview of the data\n",
    "#    Get the number of rows and columns\n",
    "print('(nrow, ncol):', inputdata.shape)     \n",
    "\n",
    "#    Show a brief summary of the numeric variables\n",
    "inputdata.describe()                        # min/max, count, mean, std and percentiles"
   ]
  },
  {
   "cell_type": "code",
   "execution_count": 153,
   "metadata": {
    "colab": {
     "base_uri": "https://localhost:8080/"
    },
    "id": "Tf0ffqtjq8qs",
    "outputId": "2fecb3b6-4e2b-48c7-fa67-25082938f078",
    "scrolled": false
   },
   "outputs": [
    {
     "name": "stdout",
     "output_type": "stream",
     "text": [
      "                Datatype\n",
      "RowNumber          int64\n",
      "CustomerId         int64\n",
      "Surname           object\n",
      "CreditScore        int64\n",
      "Geography         object\n",
      "Gender            object\n",
      "Age              float64\n",
      "Tenure             int64\n",
      "Balance          float64\n",
      "NumOfProducts    float64\n",
      "HasCrCard          int64\n",
      "IsActiveMember     int64\n",
      "EstimatedSalary  float64\n",
      "Exited             int64\n"
     ]
    }
   ],
   "source": [
    "# b) Check data type of each variable\n",
    "print(pd.DataFrame(inputdata.dtypes, columns=['Datatype']))"
   ]
  },
  {
   "cell_type": "code",
   "execution_count": 154,
   "metadata": {
    "colab": {
     "base_uri": "https://localhost:8080/"
    },
    "id": "dPFmZCfoq8qv",
    "outputId": "7adf363b-fa4e-45b5-adb2-a4c3f025a37d",
    "scrolled": true
   },
   "outputs": [
    {
     "name": "stdout",
     "output_type": "stream",
     "text": [
      "                 # NULLS   % NULLS\n",
      "RowNumber              0  0.000000\n",
      "CustomerId             0  0.000000\n",
      "Surname                0  0.000000\n",
      "CreditScore            0  0.000000\n",
      "Geography              0  0.000000\n",
      "Gender                 0  0.000000\n",
      "Age                  329  0.112942\n",
      "Tenure                 0  0.000000\n",
      "Balance                0  0.000000\n",
      "NumOfProducts        279  0.095778\n",
      "HasCrCard              0  0.000000\n",
      "IsActiveMember         0  0.000000\n",
      "EstimatedSalary        0  0.000000\n",
      "Exited                 0  0.000000\n"
     ]
    }
   ],
   "source": [
    "# c) Get an overview of the NULLS in the dataset\n",
    "nulls = pd.DataFrame(inputdata.isnull().sum(), columns=['# NULLS'])        # Number of NULLS \n",
    "\n",
    "lst={}                                                                     # Number of NULLS as a percentage\n",
    "for col in inputdata.columns:                                       \n",
    "    lst[col]=np.sum(inputdata.loc[:,col].isnull())/len(inputdata.loc[:,col])\n",
    "percNulls = pd.DataFrame(pd.Series(lst), columns=['% NULLS'])\n",
    "\n",
    "print(pd.concat([nulls, percNulls], axis=1))"
   ]
  },
  {
   "cell_type": "code",
   "execution_count": 155,
   "metadata": {
    "colab": {
     "base_uri": "https://localhost:8080/"
    },
    "id": "phpcf5Swq8qx",
    "outputId": "52ac0fc4-e1ba-470c-bb8f-27c06247fe10",
    "scrolled": true
   },
   "outputs": [
    {
     "data": {
      "text/plain": [
       "0    2576\n",
       "1     337\n",
       "Name: Exited, dtype: int64"
      ]
     },
     "execution_count": 155,
     "metadata": {},
     "output_type": "execute_result"
    }
   ],
   "source": [
    "# analyze target variable\n",
    "target = 'Exited'\n",
    "\n",
    "inputdata[target].value_counts()"
   ]
  },
  {
   "cell_type": "code",
   "execution_count": 156,
   "metadata": {
    "colab": {
     "base_uri": "https://localhost:8080/"
    },
    "id": "D-NPL7Wnq8q0",
    "outputId": "60d8def0-cef8-4fcd-91af-c3e80a68dde0"
   },
   "outputs": [
    {
     "data": {
      "text/plain": [
       "1    2022\n",
       "0     891\n",
       "Name: HasCrCard, dtype: int64"
      ]
     },
     "execution_count": 156,
     "metadata": {},
     "output_type": "execute_result"
    }
   ],
   "source": [
    "# e) Analyze categorical variables\n",
    "inputdata['HasCrCard'].value_counts()"
   ]
  },
  {
   "cell_type": "code",
   "execution_count": 157,
   "metadata": {
    "colab": {
     "base_uri": "https://localhost:8080/",
     "height": 531
    },
    "id": "z2oirfQNq8q2",
    "outputId": "d5cf4caa-af8e-4020-b8aa-bcabf67213f9"
   },
   "outputs": [
    {
     "data": {
      "text/plain": [
       "Text(0, 0.5, '#')"
      ]
     },
     "execution_count": 157,
     "metadata": {},
     "output_type": "execute_result"
    },
    {
     "data": {
      "image/png": "[encoded data removed]",
      "text/plain": [
       "<Figure size 1080x576 with 1 Axes>"
      ]
     },
     "metadata": {
      "needs_background": "light"
     },
     "output_type": "display_data"
    }
   ],
   "source": [
    "# f) Analyze distribution of continuous variable\n",
    "variable_analyzed = 'EstimatedSalary'\n",
    "\n",
    "plt.figure(figsize=(15,8))\n",
    "plt.hist((inputdata[variable_analyzed]), bins=250, color = 'blue', edgecolor = 'blue')\n",
    "plt.title('Distribution of {}'.format(variable_analyzed))\n",
    "plt.xlabel(variable_analyzed)\n",
    "plt.ylabel('#')"
   ]
  },
  {
   "cell_type": "markdown",
   "metadata": {
    "id": "1qUnr8sJq8q5"
   },
   "source": [
    "<a id=\"3\"></a> \n",
    "\n",
    "\n",
    "## 3. Data Preparation"
   ]
  },
  {
   "cell_type": "code",
   "execution_count": 158,
   "metadata": {
    "colab": {
     "base_uri": "https://localhost:8080/"
    },
    "id": "mrXZWmo2q8q5",
    "outputId": "8f831fff-5cea-43c1-d5e0-c8da15651115",
    "scrolled": false
   },
   "outputs": [
    {
     "name": "stdout",
     "output_type": "stream",
     "text": [
      "(2913, 14)\n"
     ]
    }
   ],
   "source": [
    "print(inputdata.shape)"
   ]
  },
  {
   "cell_type": "code",
   "execution_count": 159,
   "metadata": {
    "id": "MpDdezbLq8q9"
   },
   "outputs": [],
   "source": [
    "# a) Drop outliers (where features have impossibly high values)\n",
    "\n",
    "inputdata = inputdata[~(inputdata['Age']>=120)]\n",
    "inputdata = inputdata[~(inputdata['EstimatedSalary']<0)]"
   ]
  },
  {
   "cell_type": "code",
   "execution_count": 160,
   "metadata": {
    "id": "-Jn7iQN9q8q_"
   },
   "outputs": [],
   "source": [
    "# b) Handling missing values\n",
    "\n",
    "# inputdata.NumOfProducts = inputdata.NumOfProducts.fillna(0)\n",
    "# inputdata.Age = inputdata.Age.fillna(0)\n",
    "inputdata.loc[:,['Age','NumOfProducts']] = inputdata.loc[:,['Age','NumOfProducts']].fillna(inputdata.loc[:,['Age','NumOfProducts']].mean())"
   ]
  },
  {
   "cell_type": "markdown",
   "metadata": {
    "id": "5SnVFlxTq8rE"
   },
   "source": [
    "<a id=\"4\"></a> \n",
    "\n",
    "\n",
    "## 4. Feature Engineering"
   ]
  },
  {
   "cell_type": "code",
   "execution_count": 161,
   "metadata": {
    "colab": {
     "base_uri": "https://localhost:8080/",
     "height": 214
    },
    "id": "D-keVRJPq8rE",
    "outputId": "a28870f6-1fa6-4d53-fa7f-6c14373cd1a5"
   },
   "outputs": [
    {
     "data": {
      "text/html": [
       "<div>\n",
       "<style scoped>\n",
       "    .dataframe tbody tr th:only-of-type {\n",
       "        vertical-align: middle;\n",
       "    }\n",
       "\n",
       "    .dataframe tbody tr th {\n",
       "        vertical-align: top;\n",
       "    }\n",
       "\n",
       "    .dataframe thead th {\n",
       "        text-align: right;\n",
       "    }\n",
       "</style>\n",
       "<table border=\"1\" class=\"dataframe\">\n",
       "  <thead>\n",
       "    <tr style=\"text-align: right;\">\n",
       "      <th></th>\n",
       "      <th>RowNumber</th>\n",
       "      <th>CustomerId</th>\n",
       "      <th>Surname</th>\n",
       "      <th>CreditScore</th>\n",
       "      <th>Geography</th>\n",
       "      <th>Gender</th>\n",
       "      <th>Age</th>\n",
       "      <th>Tenure</th>\n",
       "      <th>Balance</th>\n",
       "      <th>NumOfProducts</th>\n",
       "      <th>...</th>\n",
       "      <th>11</th>\n",
       "      <th>12</th>\n",
       "      <th>13</th>\n",
       "      <th>14</th>\n",
       "      <th>15</th>\n",
       "      <th>16</th>\n",
       "      <th>17</th>\n",
       "      <th>18</th>\n",
       "      <th>19</th>\n",
       "      <th>20</th>\n",
       "    </tr>\n",
       "  </thead>\n",
       "  <tbody>\n",
       "    <tr>\n",
       "      <th>0</th>\n",
       "      <td>6038</td>\n",
       "      <td>15626452</td>\n",
       "      <td>Beatham</td>\n",
       "      <td>711</td>\n",
       "      <td>Spain</td>\n",
       "      <td>Male</td>\n",
       "      <td>32.0</td>\n",
       "      <td>5</td>\n",
       "      <td>0.00</td>\n",
       "      <td>2.0</td>\n",
       "      <td>...</td>\n",
       "      <td>25.0</td>\n",
       "      <td>0.00</td>\n",
       "      <td>10.0</td>\n",
       "      <td>738601.35</td>\n",
       "      <td>0.000000e+00</td>\n",
       "      <td>0.00</td>\n",
       "      <td>0.000000e+00</td>\n",
       "      <td>4.0</td>\n",
       "      <td>295440.54</td>\n",
       "      <td>2.182128e+10</td>\n",
       "    </tr>\n",
       "    <tr>\n",
       "      <th>1</th>\n",
       "      <td>6553</td>\n",
       "      <td>15636407</td>\n",
       "      <td>Beatham</td>\n",
       "      <td>793</td>\n",
       "      <td>Germany</td>\n",
       "      <td>Female</td>\n",
       "      <td>34.0</td>\n",
       "      <td>5</td>\n",
       "      <td>127758.09</td>\n",
       "      <td>1.0</td>\n",
       "      <td>...</td>\n",
       "      <td>25.0</td>\n",
       "      <td>638790.45</td>\n",
       "      <td>5.0</td>\n",
       "      <td>716785.15</td>\n",
       "      <td>1.632213e+10</td>\n",
       "      <td>127758.09</td>\n",
       "      <td>1.831502e+10</td>\n",
       "      <td>1.0</td>\n",
       "      <td>143357.03</td>\n",
       "      <td>2.055124e+10</td>\n",
       "    </tr>\n",
       "    <tr>\n",
       "      <th>2</th>\n",
       "      <td>6320</td>\n",
       "      <td>15768340</td>\n",
       "      <td>Beavers</td>\n",
       "      <td>642</td>\n",
       "      <td>Germany</td>\n",
       "      <td>Female</td>\n",
       "      <td>19.0</td>\n",
       "      <td>3</td>\n",
       "      <td>113905.48</td>\n",
       "      <td>1.0</td>\n",
       "      <td>...</td>\n",
       "      <td>9.0</td>\n",
       "      <td>341716.44</td>\n",
       "      <td>3.0</td>\n",
       "      <td>528411.60</td>\n",
       "      <td>1.297446e+10</td>\n",
       "      <td>113905.48</td>\n",
       "      <td>2.006299e+10</td>\n",
       "      <td>1.0</td>\n",
       "      <td>176137.20</td>\n",
       "      <td>3.102431e+10</td>\n",
       "    </tr>\n",
       "    <tr>\n",
       "      <th>3</th>\n",
       "      <td>7917</td>\n",
       "      <td>15610936</td>\n",
       "      <td>Becher</td>\n",
       "      <td>562</td>\n",
       "      <td>France</td>\n",
       "      <td>Male</td>\n",
       "      <td>33.0</td>\n",
       "      <td>6</td>\n",
       "      <td>0.00</td>\n",
       "      <td>2.0</td>\n",
       "      <td>...</td>\n",
       "      <td>36.0</td>\n",
       "      <td>0.00</td>\n",
       "      <td>12.0</td>\n",
       "      <td>669542.10</td>\n",
       "      <td>0.000000e+00</td>\n",
       "      <td>0.00</td>\n",
       "      <td>0.000000e+00</td>\n",
       "      <td>4.0</td>\n",
       "      <td>223180.70</td>\n",
       "      <td>1.245241e+10</td>\n",
       "    </tr>\n",
       "    <tr>\n",
       "      <th>4</th>\n",
       "      <td>9681</td>\n",
       "      <td>15655335</td>\n",
       "      <td>Becher</td>\n",
       "      <td>590</td>\n",
       "      <td>France</td>\n",
       "      <td>Male</td>\n",
       "      <td>36.0</td>\n",
       "      <td>1</td>\n",
       "      <td>0.00</td>\n",
       "      <td>2.0</td>\n",
       "      <td>...</td>\n",
       "      <td>1.0</td>\n",
       "      <td>0.00</td>\n",
       "      <td>2.0</td>\n",
       "      <td>48876.84</td>\n",
       "      <td>0.000000e+00</td>\n",
       "      <td>0.00</td>\n",
       "      <td>0.000000e+00</td>\n",
       "      <td>4.0</td>\n",
       "      <td>97753.68</td>\n",
       "      <td>2.388945e+09</td>\n",
       "    </tr>\n",
       "  </tbody>\n",
       "</table>\n",
       "<p>5 rows × 35 columns</p>\n",
       "</div>"
      ],
      "text/plain": [
       "   RowNumber  CustomerId  Surname  CreditScore Geography  Gender   Age  \\\n",
       "0       6038    15626452  Beatham          711     Spain    Male  32.0   \n",
       "1       6553    15636407  Beatham          793   Germany  Female  34.0   \n",
       "2       6320    15768340  Beavers          642   Germany  Female  19.0   \n",
       "3       7917    15610936   Becher          562    France    Male  33.0   \n",
       "4       9681    15655335   Becher          590    France    Male  36.0   \n",
       "\n",
       "   Tenure    Balance  NumOfProducts  ...    11         12    13         14  \\\n",
       "0       5       0.00            2.0  ...  25.0       0.00  10.0  738601.35   \n",
       "1       5  127758.09            1.0  ...  25.0  638790.45   5.0  716785.15   \n",
       "2       3  113905.48            1.0  ...   9.0  341716.44   3.0  528411.60   \n",
       "3       6       0.00            2.0  ...  36.0       0.00  12.0  669542.10   \n",
       "4       1       0.00            2.0  ...   1.0       0.00   2.0   48876.84   \n",
       "\n",
       "             15         16            17   18         19            20  \n",
       "0  0.000000e+00       0.00  0.000000e+00  4.0  295440.54  2.182128e+10  \n",
       "1  1.632213e+10  127758.09  1.831502e+10  1.0  143357.03  2.055124e+10  \n",
       "2  1.297446e+10  113905.48  2.006299e+10  1.0  176137.20  3.102431e+10  \n",
       "3  0.000000e+00       0.00  0.000000e+00  4.0  223180.70  1.245241e+10  \n",
       "4  0.000000e+00       0.00  0.000000e+00  4.0   97753.68  2.388945e+09  \n",
       "\n",
       "[5 rows x 35 columns]"
      ]
     },
     "execution_count": 161,
     "metadata": {},
     "output_type": "execute_result"
    }
   ],
   "source": [
    "# Creating polynomial features\n",
    "\n",
    "from sklearn.preprocessing import PolynomialFeatures\n",
    "\n",
    "poly = PolynomialFeatures(2)\n",
    "df = poly.fit_transform(inputdata[['Age',\n",
    "       'Tenure', 'Balance', 'NumOfProducts', 'EstimatedSalary']])\n",
    "\n",
    "df = pd.DataFrame(df)\n",
    "df =df.fillna(df.mean())\n",
    "inputdata = pd.concat([inputdata, df], axis=1, sort=False)\n",
    "inputdata = inputdata.dropna()\n",
    "inputdata.head()"
   ]
  },
  {
   "cell_type": "code",
   "execution_count": 162,
   "metadata": {
    "id": "W2tyfRmWq8rG"
   },
   "outputs": [],
   "source": [
    "# a) Creating new variables\n",
    "\n",
    "#    i. Compute the avg product tenure and delta salary - balance per product\n",
    "inputdata['avg_tenure'] = inputdata['Tenure'] / inputdata['NumOfProducts']\n",
    "inputdata['new_money'] = (inputdata['EstimatedSalary'] - inputdata['Balance']) / inputdata['NumOfProducts']\n",
    "inputdata['age_tenure'] = inputdata['Age'] / (inputdata['Tenure']+0.0001)\n",
    "inputdata['age_prod'] = inputdata['Age'] / inputdata['NumOfProducts']"
   ]
  },
  {
   "cell_type": "code",
   "execution_count": 163,
   "metadata": {
    "colab": {
     "base_uri": "https://localhost:8080/"
    },
    "id": "F8eLYzvBq8rJ",
    "outputId": "404c39cb-ecce-4831-d1c0-f53d7d966bb1",
    "scrolled": true
   },
   "outputs": [],
   "source": [
    "#    ii. Categorize the Credit scores based on how good it is\n",
    "inputdata['Credit'] = inputdata.loc[:,'CreditScore']\n",
    "inputdata.loc[inputdata['CreditScore']<630,'Credit'] = 0\n",
    "inputdata.loc[(inputdata['CreditScore']>=630) & (inputdata['CreditScore']<690),'Credit'] = 1\n",
    "inputdata.loc[(inputdata['CreditScore']>=690) & (inputdata['CreditScore']<720),'Credit'] = 2\n",
    "inputdata.loc[inputdata['CreditScore']>=720,'Credit'] = 3"
   ]
  },
  {
   "cell_type": "code",
   "execution_count": 164,
   "metadata": {
    "id": "9goCmGweq8rL"
   },
   "outputs": [],
   "source": [
    "# b ) Dummmify the categorical variables\n",
    "# Save the categorical variable columns\n",
    "\n",
    "categoricals = ['Gender', 'Geography'\n",
    "               ]\n",
    "\n",
    "inputdata = pd.concat([pd.get_dummies(inputdata, columns=categoricals), inputdata[categoricals]], axis=1)\n",
    "# We save the categorical columns before dummyfiying, as we might need them later on."
   ]
  },
  {
   "cell_type": "markdown",
   "metadata": {
    "id": "OBI1_Z1Fq8rN"
   },
   "source": [
    "<a id=\"5\"></a> \n",
    "\n",
    "\n",
    "## 5. Multivariate Analysis "
   ]
  },
  {
   "cell_type": "code",
   "execution_count": 165,
   "metadata": {
    "colab": {
     "base_uri": "https://localhost:8080/"
    },
    "id": "dWJx-2KSq8rO",
    "outputId": "ce3acbf9-e36a-4164-d9b4-807f0d464583"
   },
   "outputs": [
    {
     "data": {
      "text/plain": [
       "array(['RowNumber', 'CustomerId', 'Surname', 'CreditScore', 'Age',\n",
       "       'Tenure', 'Balance', 'NumOfProducts', 'HasCrCard',\n",
       "       'IsActiveMember', 'EstimatedSalary', 'Exited', 0, 1, 2, 3, 4, 5, 6,\n",
       "       7, 8, 9, 10, 11, 12, 13, 14, 15, 16, 17, 18, 19, 20, 'avg_tenure',\n",
       "       'new_money', 'age_tenure', 'age_prod', 'Credit', 'Gender_Female',\n",
       "       'Gender_Male', 'Geography_France', 'Geography_Germany',\n",
       "       'Geography_Spain', 'Gender', 'Geography'], dtype=object)"
      ]
     },
     "execution_count": 165,
     "metadata": {},
     "output_type": "execute_result"
    }
   ],
   "source": [
    "inputdata.columns.values\n"
   ]
  },
  {
   "cell_type": "code",
   "execution_count": 166,
   "metadata": {
    "colab": {
     "base_uri": "https://localhost:8080/",
     "height": 1000
    },
    "id": "w0CVvf2gq8rQ",
    "outputId": "0be15eae-2035-4986-de3a-6664e363ced2"
   },
   "outputs": [
    {
     "data": {
      "image/png": "[encoded data removed]",
      "text/plain": [
       "<Figure size 1440x1440 with 7 Axes>"
      ]
     },
     "metadata": {
      "needs_background": "light"
     },
     "output_type": "display_data"
    }
   ],
   "source": [
    "# a) Create barplot to see the relation between the dummy-variables and target variable\n",
    "dummies = ['HasCrCard'\n",
    "           ,'IsActiveMember'\n",
    "           ,'Gender_Male'\n",
    "           ,'Gender_Female'\n",
    "           ,'Geography_France'\n",
    "           ,'Geography_Germany'\n",
    "           ,'Geography_Spain'\n",
    "          ]\n",
    "\n",
    "\n",
    "plt.figure(figsize=(20,20))\n",
    "for i, column in enumerate(dummies):\n",
    "    plt.subplot(math.ceil(len(dummies)/2), 2, i+1)\n",
    "    sns.barplot(x=column, y=target, data=inputdata, palette='Blues')"
   ]
  },
  {
   "cell_type": "code",
   "execution_count": 167,
   "metadata": {
    "colab": {
     "base_uri": "https://localhost:8080/",
     "height": 655
    },
    "id": "6yz8n7Vkq8rS",
    "outputId": "b7a9bbfa-4f66-4352-cee9-4b91914a74fc"
   },
   "outputs": [
    {
     "data": {
      "text/plain": [
       "<AxesSubplot:>"
      ]
     },
     "execution_count": 167,
     "metadata": {},
     "output_type": "execute_result"
    },
    {
     "data": {
      "image/png": "[encoded data removed]",
      "text/plain": [
       "<Figure size 864x648 with 2 Axes>"
      ]
     },
     "metadata": {
      "needs_background": "light"
     },
     "output_type": "display_data"
    }
   ],
   "source": [
    "#  b) Show correlation matrix to look for mutual correlations\n",
    "columns = ['Exited'\n",
    "           ,'CreditScore'\n",
    "           ,'Age'\n",
    "           ,'Tenure'\n",
    "           ,'Balance'\n",
    "           ,'NumOfProducts'\n",
    "           ,'HasCrCard'\n",
    "           ,'IsActiveMember'\n",
    "           ,'EstimatedSalary'\n",
    "           ,'Gender_Male'\n",
    "           ,'Gender_Female'\n",
    "           ,'Geography_France'\n",
    "           ,'Geography_Germany'\n",
    "           ,'Geography_Spain'\n",
    "           ,'new_money'\n",
    "           ,'Credit'\n",
    "           ,'age_tenure'\n",
    "           ,'age_prod'\n",
    "          ]\n",
    "\n",
    "correlation = inputdata[columns]\n",
    "corrmat = correlation.corr().round(2)\n",
    "f, ax = plt.subplots(figsize=(12, 9))\n",
    "sns.heatmap(corrmat, vmax=.8, square=True, annot=True, cmap='RdBu_r')"
   ]
  },
  {
   "cell_type": "markdown",
   "metadata": {
    "id": "1_xoo3Rmq8rU"
   },
   "source": [
    "<a id=\"6\"></a> \n",
    "\n",
    "\n",
    "## 6. Split into train- and testset"
   ]
  },
  {
   "cell_type": "code",
   "execution_count": 209,
   "metadata": {
    "id": "y1mn78isq8rV"
   },
   "outputs": [],
   "source": [
    "data_train, data_test  = train_test_split(inputdata, test_size=0.2, random_state=random.seed(1618))"
   ]
  },
  {
   "cell_type": "code",
   "execution_count": 210,
   "metadata": {},
   "outputs": [],
   "source": [
    "# convert all column names to strings\n",
    "data_train.columns = data_train.columns.astype(str)\n",
    "data_test.columns = data_test.columns.astype(str)"
   ]
  },
  {
   "cell_type": "markdown",
   "metadata": {
    "id": "OPE91tpOq8rX"
   },
   "source": [
    "<a id=\"7\"></a> \n",
    "\n",
    "\n",
    "## 7. Train and validate models"
   ]
  },
  {
   "cell_type": "markdown",
   "metadata": {
    "id": "ZmKnIadhq8rY"
   },
   "source": [
    "<a id=\"5a\"></a> \n",
    "### A) Decision Tree CART"
   ]
  },
  {
   "cell_type": "code",
   "execution_count": 211,
   "metadata": {
    "colab": {
     "base_uri": "https://localhost:8080/"
    },
    "id": "XvsGuDNXq8rY",
    "outputId": "3a35c7db-1b5a-460b-c32b-b19d72dbd976"
   },
   "outputs": [
    {
     "data": {
      "text/plain": [
       "array(['RowNumber', 'CustomerId', 'Surname', 'CreditScore', 'Age',\n",
       "       'Tenure', 'Balance', 'NumOfProducts', 'HasCrCard',\n",
       "       'IsActiveMember', 'EstimatedSalary', 'Exited', '0', '1', '2', '3',\n",
       "       '4', '5', '6', '7', '8', '9', '10', '11', '12', '13', '14', '15',\n",
       "       '16', '17', '18', '19', '20', 'avg_tenure', 'new_money',\n",
       "       'age_tenure', 'age_prod', 'Credit', 'Gender_Female', 'Gender_Male',\n",
       "       'Geography_France', 'Geography_Germany', 'Geography_Spain',\n",
       "       'Gender', 'Geography'], dtype=object)"
      ]
     },
     "execution_count": 211,
     "metadata": {},
     "output_type": "execute_result"
    }
   ],
   "source": [
    "# get all variable names\n",
    "data_train.columns.values\n"
   ]
  },
  {
   "cell_type": "code",
   "execution_count": 212,
   "metadata": {
    "id": "nsUk-e-Pq8rb"
   },
   "outputs": [],
   "source": [
    "# Define X and y \n",
    "X_variables = ['CreditScore', 'Age', 'Balance', 'NumOfProducts','IsActiveMember','EstimatedSalary', 'Gender_Female', 'Geography_Germany','age_prod'] #'CreditScore', 'Age', 'Balance', 'NumOfProducts',\n",
    "       #'IsActiveMember', 'EstimatedSalary', 'Gender_Female', 'Geography_Germany''new_money', 'avg_tenure'\n",
    "y_variable = 'Exited'\n",
    "\n",
    "X_train = data_train.loc[:, X_variables]\n",
    "y_train = data_train[y_variable]\n",
    "X_test = data_test.loc[:, X_variables]\n",
    "y_test = data_test[y_variable]"
   ]
  },
  {
   "cell_type": "code",
   "execution_count": 213,
   "metadata": {
    "id": "C_qoad7Zq8rd"
   },
   "outputs": [],
   "source": [
    "# a) Set model parameters \n",
    "#    Note: if Min_bucket is too large, the tree might not branch, if too small, the tree might get to big to interpret\n",
    "Min_num_splits = 50                            # Minimum number of items to split\n",
    "Min_bucket     = math.floor(Min_num_splits/3)  # Minimum number of items per bucket\n",
    "Max_depth      = 5                             # Maximum depth of final tree (nr of levels)"
   ]
  },
  {
   "cell_type": "code",
   "execution_count": 214,
   "metadata": {
    "colab": {
     "base_uri": "https://localhost:8080/"
    },
    "id": "WtDyImIGq8rf",
    "outputId": "7ef96123-5c3e-4b46-b214-e725ab09c234",
    "scrolled": true
   },
   "outputs": [
    {
     "data": {
      "text/html": [
       "<style>#sk-container-id-12 {color: black;background-color: white;}#sk-container-id-12 pre{padding: 0;}#sk-container-id-12 div.sk-toggleable {background-color: white;}#sk-container-id-12 label.sk-toggleable__label {cursor: pointer;display: block;width: 100%;margin-bottom: 0;padding: 0.3em;box-sizing: border-box;text-align: center;}#sk-container-id-12 label.sk-toggleable__label-arrow:before {content: \"▸\";float: left;margin-right: 0.25em;color: #696969;}#sk-container-id-12 label.sk-toggleable__label-arrow:hover:before {color: black;}#sk-container-id-12 div.sk-estimator:hover label.sk-toggleable__label-arrow:before {color: black;}#sk-container-id-12 div.sk-toggleable__content {max-height: 0;max-width: 0;overflow: hidden;text-align: left;background-color: #f0f8ff;}#sk-container-id-12 div.sk-toggleable__content pre {margin: 0.2em;color: black;border-radius: 0.25em;background-color: #f0f8ff;}#sk-container-id-12 input.sk-toggleable__control:checked~div.sk-toggleable__content {max-height: 200px;max-width: 100%;overflow: auto;}#sk-container-id-12 input.sk-toggleable__control:checked~label.sk-toggleable__label-arrow:before {content: \"▾\";}#sk-container-id-12 div.sk-estimator input.sk-toggleable__control:checked~label.sk-toggleable__label {background-color: #d4ebff;}#sk-container-id-12 div.sk-label input.sk-toggleable__control:checked~label.sk-toggleable__label {background-color: #d4ebff;}#sk-container-id-12 input.sk-hidden--visually {border: 0;clip: rect(1px 1px 1px 1px);clip: rect(1px, 1px, 1px, 1px);height: 1px;margin: -1px;overflow: hidden;padding: 0;position: absolute;width: 1px;}#sk-container-id-12 div.sk-estimator {font-family: monospace;background-color: #f0f8ff;border: 1px dotted black;border-radius: 0.25em;box-sizing: border-box;margin-bottom: 0.5em;}#sk-container-id-12 div.sk-estimator:hover {background-color: #d4ebff;}#sk-container-id-12 div.sk-parallel-item::after {content: \"\";width: 100%;border-bottom: 1px solid gray;flex-grow: 1;}#sk-container-id-12 div.sk-label:hover label.sk-toggleable__label {background-color: #d4ebff;}#sk-container-id-12 div.sk-serial::before {content: \"\";position: absolute;border-left: 1px solid gray;box-sizing: border-box;top: 0;bottom: 0;left: 50%;z-index: 0;}#sk-container-id-12 div.sk-serial {display: flex;flex-direction: column;align-items: center;background-color: white;padding-right: 0.2em;padding-left: 0.2em;position: relative;}#sk-container-id-12 div.sk-item {position: relative;z-index: 1;}#sk-container-id-12 div.sk-parallel {display: flex;align-items: stretch;justify-content: center;background-color: white;position: relative;}#sk-container-id-12 div.sk-item::before, #sk-container-id-12 div.sk-parallel-item::before {content: \"\";position: absolute;border-left: 1px solid gray;box-sizing: border-box;top: 0;bottom: 0;left: 50%;z-index: -1;}#sk-container-id-12 div.sk-parallel-item {display: flex;flex-direction: column;z-index: 1;position: relative;background-color: white;}#sk-container-id-12 div.sk-parallel-item:first-child::after {align-self: flex-end;width: 50%;}#sk-container-id-12 div.sk-parallel-item:last-child::after {align-self: flex-start;width: 50%;}#sk-container-id-12 div.sk-parallel-item:only-child::after {width: 0;}#sk-container-id-12 div.sk-dashed-wrapped {border: 1px dashed gray;margin: 0 0.4em 0.5em 0.4em;box-sizing: border-box;padding-bottom: 0.4em;background-color: white;}#sk-container-id-12 div.sk-label label {font-family: monospace;font-weight: bold;display: inline-block;line-height: 1.2em;}#sk-container-id-12 div.sk-label-container {text-align: center;}#sk-container-id-12 div.sk-container {/* jupyter's `normalize.less` sets `[hidden] { display: none; }` but bootstrap.min.css set `[hidden] { display: none !important; }` so we also need the `!important` here to be able to override the default hidden behavior on the sphinx rendered scikit-learn.org. See: https://github.com/scikit-learn/scikit-learn/issues/21755 */display: inline-block !important;position: relative;}#sk-container-id-12 div.sk-text-repr-fallback {display: none;}</style><div id=\"sk-container-id-12\" class=\"sk-top-container\"><div class=\"sk-text-repr-fallback\"><pre>DecisionTreeClassifier(max_depth=5, min_samples_leaf=16, min_samples_split=50)</pre><b>In a Jupyter environment, please rerun this cell to show the HTML representation or trust the notebook. <br />On GitHub, the HTML representation is unable to render, please try loading this page with nbviewer.org.</b></div><div class=\"sk-container\" hidden><div class=\"sk-item\"><div class=\"sk-estimator sk-toggleable\"><input class=\"sk-toggleable__control sk-hidden--visually\" id=\"sk-estimator-id-20\" type=\"checkbox\" checked><label for=\"sk-estimator-id-20\" class=\"sk-toggleable__label sk-toggleable__label-arrow\">DecisionTreeClassifier</label><div class=\"sk-toggleable__content\"><pre>DecisionTreeClassifier(max_depth=5, min_samples_leaf=16, min_samples_split=50)</pre></div></div></div></div></div>"
      ],
      "text/plain": [
       "DecisionTreeClassifier(max_depth=5, min_samples_leaf=16, min_samples_split=50)"
      ]
     },
     "execution_count": 214,
     "metadata": {},
     "output_type": "execute_result"
    }
   ],
   "source": [
    "# b) Estimate the model \n",
    "mytree = DecisionTreeClassifier(max_depth=Max_depth\n",
    "                                ,min_samples_split=Min_num_splits\n",
    "                                ,min_samples_leaf=Min_bucket\n",
    "                                ,criterion=\"gini\"              \n",
    "                                ,splitter=\"best\"\n",
    "                                ,random_state=random.seed()\n",
    "                                )\n",
    "\n",
    "mytree.fit(X_train, y_train)     # Fit the model over the train set"
   ]
  },
  {
   "cell_type": "code",
   "execution_count": 215,
   "metadata": {
    "colab": {
     "base_uri": "https://localhost:8080/",
     "height": 194
    },
    "id": "Rfm20Z7Gq8rh",
    "outputId": "9b6ee77c-c6cf-4672-b1e1-7f6a3b64fe78"
   },
   "outputs": [
    {
     "data": {
      "text/html": [
       "<div>\n",
       "<style scoped>\n",
       "    .dataframe tbody tr th:only-of-type {\n",
       "        vertical-align: middle;\n",
       "    }\n",
       "\n",
       "    .dataframe tbody tr th {\n",
       "        vertical-align: top;\n",
       "    }\n",
       "\n",
       "    .dataframe thead th {\n",
       "        text-align: right;\n",
       "    }\n",
       "</style>\n",
       "<table border=\"1\" class=\"dataframe\">\n",
       "  <thead>\n",
       "    <tr style=\"text-align: right;\">\n",
       "      <th></th>\n",
       "      <th>Prob. 0</th>\n",
       "      <th>Prob. 1</th>\n",
       "      <th>Prediction</th>\n",
       "    </tr>\n",
       "  </thead>\n",
       "  <tbody>\n",
       "    <tr>\n",
       "      <th>0</th>\n",
       "      <td>0.192308</td>\n",
       "      <td>0.807692</td>\n",
       "      <td>1</td>\n",
       "    </tr>\n",
       "    <tr>\n",
       "      <th>1</th>\n",
       "      <td>0.780488</td>\n",
       "      <td>0.219512</td>\n",
       "      <td>0</td>\n",
       "    </tr>\n",
       "    <tr>\n",
       "      <th>2</th>\n",
       "      <td>0.945841</td>\n",
       "      <td>0.054159</td>\n",
       "      <td>0</td>\n",
       "    </tr>\n",
       "    <tr>\n",
       "      <th>3</th>\n",
       "      <td>0.945841</td>\n",
       "      <td>0.054159</td>\n",
       "      <td>0</td>\n",
       "    </tr>\n",
       "    <tr>\n",
       "      <th>4</th>\n",
       "      <td>0.605263</td>\n",
       "      <td>0.394737</td>\n",
       "      <td>0</td>\n",
       "    </tr>\n",
       "  </tbody>\n",
       "</table>\n",
       "</div>"
      ],
      "text/plain": [
       "    Prob. 0   Prob. 1  Prediction\n",
       "0  0.192308  0.807692           1\n",
       "1  0.780488  0.219512           0\n",
       "2  0.945841  0.054159           0\n",
       "3  0.945841  0.054159           0\n",
       "4  0.605263  0.394737           0"
      ]
     },
     "execution_count": 215,
     "metadata": {},
     "output_type": "execute_result"
    }
   ],
   "source": [
    "# c) Create predictions for the test set\n",
    "preds_proba = mytree.predict_proba(X_test)\n",
    "preds = mytree.predict(X_test)   # Cut-off point equals 0.5\n",
    "\n",
    "#    Show the first 5 lines of the prediction probabilities and corresponding prediction\n",
    "pd.concat([pd.DataFrame(preds_proba, columns=[\"Prob. 0\", \"Prob. 1\"]), pd.DataFrame(preds, columns=[\"Prediction\"])], axis=1).head()"
   ]
  },
  {
   "cell_type": "code",
   "execution_count": 216,
   "metadata": {
    "colab": {
     "base_uri": "https://localhost:8080/"
    },
    "id": "UIpWatCZq8rj",
    "outputId": "aeb754d4-e9e9-4bc3-898f-ad0fd183fe58"
   },
   "outputs": [
    {
     "name": "stdout",
     "output_type": "stream",
     "text": [
      "Optimal cut-off: 0.39\n"
     ]
    }
   ],
   "source": [
    "#    Calculate the optimal cut-off point\n",
    "cost_TP = 50\n",
    "cost_TN = 0\n",
    "cost_FP = 50\n",
    "cost_FN = 100\n",
    "total_cost = math.inf\n",
    "\n",
    "for i in np.linspace(0,1,100,endpoint=False):\n",
    "    y_pred = (preds_proba[:,1]>i).astype('int')\n",
    "    results = metrics.confusion_matrix(y_pred,y_test)\n",
    "    TN = results[0][0]\n",
    "    FN = results[0][1]\n",
    "    FP = results[1][0]\n",
    "    TP = results[1][1]\n",
    "    \n",
    "    # Calculate cutoff-point\n",
    "    cost = TN*cost_TN + TP*cost_TP + FP*cost_FP + FN*cost_FN\n",
    "    total_cost = min(total_cost,cost)\n",
    "    if(total_cost == cost):\n",
    "        opt_cutoff = i\n",
    "        \n",
    "print('Optimal cut-off:', opt_cutoff)\n",
    "\n",
    "#    Create predictions for the test set according to optimal cutoff point\n",
    "preds = (preds_proba[:,1] > opt_cutoff).astype('int')"
   ]
  },
  {
   "cell_type": "code",
   "execution_count": 217,
   "metadata": {
    "colab": {
     "base_uri": "https://localhost:8080/",
     "height": 339
    },
    "id": "6ze8HEZWq8rm",
    "outputId": "160c36b8-b8d0-4b67-c1a2-3cfcc5cb9068"
   },
   "outputs": [
    {
     "name": "stdout",
     "output_type": "stream",
     "text": [
      "       fpr       tpr    1-fpr        tf  thresholds\n",
      "9  0.30137  0.736111  0.69863  0.037481    0.129199\n"
     ]
    },
    {
     "data": {
      "text/plain": [
       "[Text(-2.0, 0, ''),\n",
       " Text(0.0, 0, ''),\n",
       " Text(2.0, 0, ''),\n",
       " Text(4.0, 0, ''),\n",
       " Text(6.0, 0, ''),\n",
       " Text(8.0, 0, ''),\n",
       " Text(10.0, 0, ''),\n",
       " Text(12.0, 0, ''),\n",
       " Text(14.0, 0, ''),\n",
       " Text(16.0, 0, '')]"
      ]
     },
     "execution_count": 217,
     "metadata": {},
     "output_type": "execute_result"
    },
    {
     "data": {
      "image/png": "[encoded data removed]",
      "text/plain": [
       "<Figure size 432x288 with 1 Axes>"
      ]
     },
     "metadata": {
      "needs_background": "light"
     },
     "output_type": "display_data"
    }
   ],
   "source": [
    "#    Plot tpr vs 1-fpr\n",
    "fpr, tpr, t = metrics.roc_curve(y_test, preds_proba[:,1])\n",
    "i = np.arange(len(tpr)) # index for df\n",
    "roc = pd.DataFrame({'fpr' : pd.Series(fpr, index=i),'tpr' : pd.Series(tpr, index = i)\n",
    "                    ,'1-fpr' : pd.Series(1-fpr, index = i)\n",
    "                    ,'tf' : pd.Series(tpr - (1-fpr), index = i)\n",
    "                    ,'thresholds' : pd.Series(t, index = i)})\n",
    "print(roc.loc[(roc.tf-0).abs().argsort()[:1]])\n",
    "fig, ax = plt.subplots()\n",
    "plt.plot(roc['tpr'])\n",
    "plt.plot(roc['1-fpr'], color = 'red')\n",
    "plt.title('Receiver operating characteristic')\n",
    "plt.ylabel('True Positive Rate')\n",
    "plt.xlabel('1-False Positive Rate')\n",
    "ax.set_xticklabels([])"
   ]
  },
  {
   "cell_type": "code",
   "execution_count": 218,
   "metadata": {
    "colab": {
     "base_uri": "https://localhost:8080/"
    },
    "id": "S7Jo3pYzq8ro",
    "outputId": "b025981c-f926-41be-c31f-470b1668bf91"
   },
   "outputs": [
    {
     "name": "stdout",
     "output_type": "stream",
     "text": [
      "Exited    0   1\n",
      "row_0          \n",
      "0       497  44\n",
      "1        14  28\n"
     ]
    }
   ],
   "source": [
    "# d) Evaluate results\n",
    "#    i. Create confusion matrix\n",
    "print(pd.crosstab(preds, y_test))"
   ]
  },
  {
   "cell_type": "code",
   "execution_count": 219,
   "metadata": {
    "colab": {
     "base_uri": "https://localhost:8080/"
    },
    "id": "LcpChje9q8rq",
    "outputId": "8b704bfc-e4c4-42aa-ddc8-ba2f70d1abb5"
   },
   "outputs": [
    {
     "name": "stdout",
     "output_type": "stream",
     "text": [
      "              precision    recall  f1-score   support\n",
      "\n",
      "           0       0.92      0.97      0.94       511\n",
      "           1       0.67      0.39      0.49        72\n",
      "\n",
      "    accuracy                           0.90       583\n",
      "   macro avg       0.79      0.68      0.72       583\n",
      "weighted avg       0.89      0.90      0.89       583\n",
      "\n"
     ]
    }
   ],
   "source": [
    "#    ii. Create classification report\n",
    "print(classification_report(y_test, preds))"
   ]
  },
  {
   "cell_type": "code",
   "execution_count": 220,
   "metadata": {
    "colab": {
     "base_uri": "https://localhost:8080/",
     "height": 562
    },
    "id": "NYxrL-_Nq8rt",
    "outputId": "dc087adf-bd49-4d6d-f326-f052875dc88b",
    "scrolled": true
   },
   "outputs": [
    {
     "name": "stdout",
     "output_type": "stream",
     "text": [
      "Feature ranking:\n",
      "Feature 8 (age_prod) 0.350556\n",
      "Feature 3 (NumOfProducts) 0.337543\n",
      "Feature 4 (IsActiveMember) 0.129784\n",
      "Feature 7 (Geography_Germany) 0.073242\n",
      "Feature 1 (Age) 0.036486\n",
      "Feature 0 (CreditScore) 0.026780\n",
      "Feature 2 (Balance) 0.024407\n",
      "Feature 6 (Gender_Female) 0.021203\n",
      "Feature 5 (EstimatedSalary) 0.000000\n"
     ]
    },
    {
     "data": {
      "text/plain": [
       "<Figure size 540x360 with 0 Axes>"
      ]
     },
     "metadata": {},
     "output_type": "display_data"
    },
    {
     "data": {
      "image/png": "[encoded data removed]",
      "text/plain": [
       "<Figure size 432x288 with 1 Axes>"
      ]
     },
     "metadata": {
      "needs_background": "light"
     },
     "output_type": "display_data"
    }
   ],
   "source": [
    "#    iii. Get the feature importances of the tree\n",
    "importances = mytree.feature_importances_ \n",
    "std = np.std([mytree.feature_importances_], axis=0)\n",
    "indices = np.argsort(importances)[::-1]\n",
    "\n",
    "importances_features = []\n",
    "print(\"Feature ranking:\")                    # Print the feature ranking\n",
    "for f in range(X_train.shape[1]):\n",
    "    print(\"Feature %d (%s) %f\" % (indices[f], X_variables[indices[f]], importances[indices[f]]))\n",
    "    importances_features.append(X_variables[indices[f]])\n",
    "\n",
    "plt.figure(figsize=(7.5,5))\n",
    "plt.figure()                                 # Plot the feature importances \n",
    "plt.bar(range(X_train.shape[1]), importances[indices],\n",
    "       color=\"r\", yerr=std[indices], align=\"center\")\n",
    "plt.title(\"Feature importances\")\n",
    "plt.ylabel(\"Importance in terms of decreasing the weighted impurity\")\n",
    "plt.xlabel(\"Feature\")\n",
    "plt.xticks(range(X_train.shape[1]), importances_features, rotation = 30)\n",
    "plt.xlim([-1, X_train.shape[1]])\n",
    "plt.show()"
   ]
  },
  {
   "cell_type": "code",
   "execution_count": 221,
   "metadata": {
    "colab": {
     "base_uri": "https://localhost:8080/",
     "height": 404
    },
    "id": "Tg8o7omCq8rv",
    "outputId": "2e323226-e193-47f8-ec6a-a3642c9d9022"
   },
   "outputs": [
    {
     "data": {
      "image/png": "[encoded data removed]",
      "text/plain": [
       "<Figure size 720x432 with 1 Axes>"
      ]
     },
     "metadata": {
      "needs_background": "light"
     },
     "output_type": "display_data"
    }
   ],
   "source": [
    "#    iv. Create ROC curve\n",
    "fpr, tpr, t = metrics.roc_curve(y_test, preds_proba[:,1])\n",
    "\n",
    "#     v. Calculate AUC\n",
    "CART_roc_auc_tree = metrics.auc(fpr, tpr)\n",
    "\n",
    "plt.figure(figsize=(10,6))\n",
    "plt.plot([0,1],[0,1],linestyle = '--',lw = 2,color = 'black')      # Plot results\n",
    "plt.plot(fpr, tpr, lw=2, alpha=0.3, label='Mean ROC Decision Tree CART (AUC = %0.2f)' % (CART_roc_auc_tree))\n",
    "plt.title('ROC curve')\n",
    "plt.ylabel('True Positive Rate')\n",
    "plt.xlabel('False Positive Rate')\n",
    "plt.legend(loc=\"lower right\")\n",
    "plt.show()"
   ]
  },
  {
   "cell_type": "code",
   "execution_count": 222,
   "metadata": {
    "colab": {
     "base_uri": "https://localhost:8080/",
     "height": 286
    },
    "id": "dTBfD2c0q8ry",
    "outputId": "d09af4a9-07f4-4c18-fd32-51b834151349"
   },
   "outputs": [
    {
     "ename": "InvocationException",
     "evalue": "GraphViz's executables not found",
     "output_type": "error",
     "traceback": [
      "\u001b[1;31m---------------------------------------------------------------------------\u001b[0m",
      "\u001b[1;31mInvocationException\u001b[0m                       Traceback (most recent call last)",
      "Input \u001b[1;32mIn [222]\u001b[0m, in \u001b[0;36m<cell line: 9>\u001b[1;34m()\u001b[0m\n\u001b[0;32m      7\u001b[0m os\u001b[38;5;241m.\u001b[39menviron[\u001b[38;5;124m\"\u001b[39m\u001b[38;5;124mPATH\u001b[39m\u001b[38;5;124m\"\u001b[39m] \u001b[38;5;241m+\u001b[39m\u001b[38;5;241m=\u001b[39m os\u001b[38;5;241m.\u001b[39mpathsep \u001b[38;5;241m+\u001b[39m \u001b[38;5;124m'\u001b[39m\u001b[38;5;124mC:/Program Files (x86)/Graphviz2.38/bin/\u001b[39m\u001b[38;5;124m'\u001b[39m\n\u001b[0;32m      8\u001b[0m graph \u001b[38;5;241m=\u001b[39m pydotplus\u001b[38;5;241m.\u001b[39mgraph_from_dot_data(dot_data\u001b[38;5;241m.\u001b[39mgetvalue())\n\u001b[1;32m----> 9\u001b[0m Image(\u001b[43mgraph\u001b[49m\u001b[38;5;241;43m.\u001b[39;49m\u001b[43mcreate_png\u001b[49m\u001b[43m(\u001b[49m\u001b[43m)\u001b[49m)\n",
      "File \u001b[1;32m~\\AppData\\Roaming\\Python\\Python39\\site-packages\\pydotplus\\graphviz.py:1797\u001b[0m, in \u001b[0;36mDot.__init__.<locals>.<lambda>\u001b[1;34m(f, prog)\u001b[0m\n\u001b[0;32m   1792\u001b[0m \u001b[38;5;66;03m# Automatically creates all the methods enabling the creation\u001b[39;00m\n\u001b[0;32m   1793\u001b[0m \u001b[38;5;66;03m# of output in any of the supported formats.\u001b[39;00m\n\u001b[0;32m   1794\u001b[0m \u001b[38;5;28;01mfor\u001b[39;00m frmt \u001b[38;5;129;01min\u001b[39;00m \u001b[38;5;28mself\u001b[39m\u001b[38;5;241m.\u001b[39mformats:\n\u001b[0;32m   1795\u001b[0m     \u001b[38;5;28mself\u001b[39m\u001b[38;5;241m.\u001b[39m\u001b[38;5;21m__setattr__\u001b[39m(\n\u001b[0;32m   1796\u001b[0m         \u001b[38;5;124m'\u001b[39m\u001b[38;5;124mcreate_\u001b[39m\u001b[38;5;124m'\u001b[39m \u001b[38;5;241m+\u001b[39m frmt,\n\u001b[1;32m-> 1797\u001b[0m         \u001b[38;5;28;01mlambda\u001b[39;00m f\u001b[38;5;241m=\u001b[39mfrmt, prog\u001b[38;5;241m=\u001b[39m\u001b[38;5;28mself\u001b[39m\u001b[38;5;241m.\u001b[39mprog: \u001b[38;5;28;43mself\u001b[39;49m\u001b[38;5;241;43m.\u001b[39;49m\u001b[43mcreate\u001b[49m\u001b[43m(\u001b[49m\u001b[38;5;28;43mformat\u001b[39;49m\u001b[38;5;241;43m=\u001b[39;49m\u001b[43mf\u001b[49m\u001b[43m,\u001b[49m\u001b[43m \u001b[49m\u001b[43mprog\u001b[49m\u001b[38;5;241;43m=\u001b[39;49m\u001b[43mprog\u001b[49m\u001b[43m)\u001b[49m\n\u001b[0;32m   1798\u001b[0m     )\n\u001b[0;32m   1799\u001b[0m     f \u001b[38;5;241m=\u001b[39m \u001b[38;5;28mself\u001b[39m\u001b[38;5;241m.\u001b[39m\u001b[38;5;18m__dict__\u001b[39m[\u001b[38;5;124m'\u001b[39m\u001b[38;5;124mcreate_\u001b[39m\u001b[38;5;124m'\u001b[39m \u001b[38;5;241m+\u001b[39m frmt]\n\u001b[0;32m   1800\u001b[0m     f\u001b[38;5;241m.\u001b[39m\u001b[38;5;18m__doc__\u001b[39m \u001b[38;5;241m=\u001b[39m (\n\u001b[0;32m   1801\u001b[0m         \u001b[38;5;124;03m'''Refer to the docstring accompanying the'''\u001b[39;00m\n\u001b[0;32m   1802\u001b[0m         \u001b[38;5;124;03m''''create' method for more information.'''\u001b[39;00m\n\u001b[0;32m   1803\u001b[0m     )\n",
      "File \u001b[1;32m~\\AppData\\Roaming\\Python\\Python39\\site-packages\\pydotplus\\graphviz.py:1959\u001b[0m, in \u001b[0;36mDot.create\u001b[1;34m(self, prog, format)\u001b[0m\n\u001b[0;32m   1957\u001b[0m     \u001b[38;5;28mself\u001b[39m\u001b[38;5;241m.\u001b[39mprogs \u001b[38;5;241m=\u001b[39m find_graphviz()\n\u001b[0;32m   1958\u001b[0m     \u001b[38;5;28;01mif\u001b[39;00m \u001b[38;5;28mself\u001b[39m\u001b[38;5;241m.\u001b[39mprogs \u001b[38;5;129;01mis\u001b[39;00m \u001b[38;5;28;01mNone\u001b[39;00m:\n\u001b[1;32m-> 1959\u001b[0m         \u001b[38;5;28;01mraise\u001b[39;00m InvocationException(\n\u001b[0;32m   1960\u001b[0m             \u001b[38;5;124m'\u001b[39m\u001b[38;5;124mGraphViz\u001b[39m\u001b[38;5;130;01m\\'\u001b[39;00m\u001b[38;5;124ms executables not found\u001b[39m\u001b[38;5;124m'\u001b[39m)\n\u001b[0;32m   1962\u001b[0m \u001b[38;5;28;01mif\u001b[39;00m prog \u001b[38;5;129;01mnot\u001b[39;00m \u001b[38;5;129;01min\u001b[39;00m \u001b[38;5;28mself\u001b[39m\u001b[38;5;241m.\u001b[39mprogs:\n\u001b[0;32m   1963\u001b[0m     \u001b[38;5;28;01mraise\u001b[39;00m InvocationException(\n\u001b[0;32m   1964\u001b[0m         \u001b[38;5;124m'\u001b[39m\u001b[38;5;124mGraphViz\u001b[39m\u001b[38;5;130;01m\\'\u001b[39;00m\u001b[38;5;124ms executable \u001b[39m\u001b[38;5;124m\"\u001b[39m\u001b[38;5;132;01m%s\u001b[39;00m\u001b[38;5;124m\"\u001b[39m\u001b[38;5;124m not found\u001b[39m\u001b[38;5;124m'\u001b[39m \u001b[38;5;241m%\u001b[39m prog)\n",
      "\u001b[1;31mInvocationException\u001b[0m: GraphViz's executables not found"
     ]
    }
   ],
   "source": [
    "# e) Visualize Decision Tree\n",
    "dot_data = StringIO()\n",
    "export_graphviz(mytree, out_file=dot_data,           # mytree := name of your decision treee\n",
    "                filled=True, rounded=True,\n",
    "                feature_names=X_variables,\n",
    "                special_characters=True)\n",
    "os.environ[\"PATH\"] += os.pathsep + 'C:/Program Files (x86)/Graphviz2.38/bin/'\n",
    "graph = pydotplus.graph_from_dot_data(dot_data.getvalue())\n",
    "Image(graph.create_png())"
   ]
  },
  {
   "cell_type": "markdown",
   "metadata": {
    "id": "EpDqvaGPq8r0"
   },
   "source": [
    "<a id=\"5c\"></a> \n",
    "### B) Random Forest "
   ]
  },
  {
   "cell_type": "code",
   "execution_count": 223,
   "metadata": {
    "id": "59-ufWOYq8r1"
   },
   "outputs": [],
   "source": [
    "# Define train and test set\n",
    "\n",
    "X_train = data_train.loc[:, X_variables]\n",
    "y_train = data_train[y_variable]\n",
    "X_test = data_test.loc[:, X_variables]\n",
    "y_test = data_test[y_variable]"
   ]
  },
  {
   "cell_type": "code",
   "execution_count": 224,
   "metadata": {
    "id": "UHQY4qniq8r3"
   },
   "outputs": [],
   "source": [
    "# a) Set model parameters \n",
    "#     Note: You can tweak the size of your forest by changing 'N_trees', but note computation time increases with size\n",
    "#     Note: if Min_bucket is too large, the trees might not branch\n",
    "N_trees        = 20                           # Number of trees that are estimated\n",
    "Min_num_splits = 50                            # Minimum number of items to split    \n",
    "Min_bucket     = math.floor(Min_num_splits/3)  # Minimum number of items per bucket\n",
    "Max_depth      = 7                            # Maximum depth of each tree (nr of levels)"
   ]
  },
  {
   "cell_type": "code",
   "execution_count": 225,
   "metadata": {
    "colab": {
     "base_uri": "https://localhost:8080/"
    },
    "id": "hE6XPqIxq8r5",
    "outputId": "2df11c96-ca80-4f23-9e71-7176a802da6e"
   },
   "outputs": [
    {
     "data": {
      "text/html": [
       "<style>#sk-container-id-13 {color: black;background-color: white;}#sk-container-id-13 pre{padding: 0;}#sk-container-id-13 div.sk-toggleable {background-color: white;}#sk-container-id-13 label.sk-toggleable__label {cursor: pointer;display: block;width: 100%;margin-bottom: 0;padding: 0.3em;box-sizing: border-box;text-align: center;}#sk-container-id-13 label.sk-toggleable__label-arrow:before {content: \"▸\";float: left;margin-right: 0.25em;color: #696969;}#sk-container-id-13 label.sk-toggleable__label-arrow:hover:before {color: black;}#sk-container-id-13 div.sk-estimator:hover label.sk-toggleable__label-arrow:before {color: black;}#sk-container-id-13 div.sk-toggleable__content {max-height: 0;max-width: 0;overflow: hidden;text-align: left;background-color: #f0f8ff;}#sk-container-id-13 div.sk-toggleable__content pre {margin: 0.2em;color: black;border-radius: 0.25em;background-color: #f0f8ff;}#sk-container-id-13 input.sk-toggleable__control:checked~div.sk-toggleable__content {max-height: 200px;max-width: 100%;overflow: auto;}#sk-container-id-13 input.sk-toggleable__control:checked~label.sk-toggleable__label-arrow:before {content: \"▾\";}#sk-container-id-13 div.sk-estimator input.sk-toggleable__control:checked~label.sk-toggleable__label {background-color: #d4ebff;}#sk-container-id-13 div.sk-label input.sk-toggleable__control:checked~label.sk-toggleable__label {background-color: #d4ebff;}#sk-container-id-13 input.sk-hidden--visually {border: 0;clip: rect(1px 1px 1px 1px);clip: rect(1px, 1px, 1px, 1px);height: 1px;margin: -1px;overflow: hidden;padding: 0;position: absolute;width: 1px;}#sk-container-id-13 div.sk-estimator {font-family: monospace;background-color: #f0f8ff;border: 1px dotted black;border-radius: 0.25em;box-sizing: border-box;margin-bottom: 0.5em;}#sk-container-id-13 div.sk-estimator:hover {background-color: #d4ebff;}#sk-container-id-13 div.sk-parallel-item::after {content: \"\";width: 100%;border-bottom: 1px solid gray;flex-grow: 1;}#sk-container-id-13 div.sk-label:hover label.sk-toggleable__label {background-color: #d4ebff;}#sk-container-id-13 div.sk-serial::before {content: \"\";position: absolute;border-left: 1px solid gray;box-sizing: border-box;top: 0;bottom: 0;left: 50%;z-index: 0;}#sk-container-id-13 div.sk-serial {display: flex;flex-direction: column;align-items: center;background-color: white;padding-right: 0.2em;padding-left: 0.2em;position: relative;}#sk-container-id-13 div.sk-item {position: relative;z-index: 1;}#sk-container-id-13 div.sk-parallel {display: flex;align-items: stretch;justify-content: center;background-color: white;position: relative;}#sk-container-id-13 div.sk-item::before, #sk-container-id-13 div.sk-parallel-item::before {content: \"\";position: absolute;border-left: 1px solid gray;box-sizing: border-box;top: 0;bottom: 0;left: 50%;z-index: -1;}#sk-container-id-13 div.sk-parallel-item {display: flex;flex-direction: column;z-index: 1;position: relative;background-color: white;}#sk-container-id-13 div.sk-parallel-item:first-child::after {align-self: flex-end;width: 50%;}#sk-container-id-13 div.sk-parallel-item:last-child::after {align-self: flex-start;width: 50%;}#sk-container-id-13 div.sk-parallel-item:only-child::after {width: 0;}#sk-container-id-13 div.sk-dashed-wrapped {border: 1px dashed gray;margin: 0 0.4em 0.5em 0.4em;box-sizing: border-box;padding-bottom: 0.4em;background-color: white;}#sk-container-id-13 div.sk-label label {font-family: monospace;font-weight: bold;display: inline-block;line-height: 1.2em;}#sk-container-id-13 div.sk-label-container {text-align: center;}#sk-container-id-13 div.sk-container {/* jupyter's `normalize.less` sets `[hidden] { display: none; }` but bootstrap.min.css set `[hidden] { display: none !important; }` so we also need the `!important` here to be able to override the default hidden behavior on the sphinx rendered scikit-learn.org. See: https://github.com/scikit-learn/scikit-learn/issues/21755 */display: inline-block !important;position: relative;}#sk-container-id-13 div.sk-text-repr-fallback {display: none;}</style><div id=\"sk-container-id-13\" class=\"sk-top-container\"><div class=\"sk-text-repr-fallback\"><pre>RandomForestClassifier(max_depth=7, min_samples_leaf=16, min_samples_split=50,\n",
       "                       n_estimators=20)</pre><b>In a Jupyter environment, please rerun this cell to show the HTML representation or trust the notebook. <br />On GitHub, the HTML representation is unable to render, please try loading this page with nbviewer.org.</b></div><div class=\"sk-container\" hidden><div class=\"sk-item\"><div class=\"sk-estimator sk-toggleable\"><input class=\"sk-toggleable__control sk-hidden--visually\" id=\"sk-estimator-id-21\" type=\"checkbox\" checked><label for=\"sk-estimator-id-21\" class=\"sk-toggleable__label sk-toggleable__label-arrow\">RandomForestClassifier</label><div class=\"sk-toggleable__content\"><pre>RandomForestClassifier(max_depth=7, min_samples_leaf=16, min_samples_split=50,\n",
       "                       n_estimators=20)</pre></div></div></div></div></div>"
      ],
      "text/plain": [
       "RandomForestClassifier(max_depth=7, min_samples_leaf=16, min_samples_split=50,\n",
       "                       n_estimators=20)"
      ]
     },
     "execution_count": 225,
     "metadata": {},
     "output_type": "execute_result"
    }
   ],
   "source": [
    "# b) Estimate the model\n",
    "forest = RandomForestClassifier(n_estimators = N_trees\n",
    "                                ,criterion = \"gini\"            \n",
    "                                ,max_depth = Max_depth\n",
    "                                ,min_samples_split = Min_num_splits\n",
    "                                ,min_samples_leaf = Min_bucket\n",
    "                                ,random_state = random.seed()\n",
    "                                )\n",
    "\n",
    "forest.fit(X_train, y_train)   # Fit the model over the train set"
   ]
  },
  {
   "cell_type": "code",
   "execution_count": 226,
   "metadata": {
    "colab": {
     "base_uri": "https://localhost:8080/",
     "height": 194
    },
    "id": "xL8vthcHq8r7",
    "outputId": "346eae69-8bc3-4d01-e5dc-8ae71563f9a1"
   },
   "outputs": [
    {
     "data": {
      "text/html": [
       "<div>\n",
       "<style scoped>\n",
       "    .dataframe tbody tr th:only-of-type {\n",
       "        vertical-align: middle;\n",
       "    }\n",
       "\n",
       "    .dataframe tbody tr th {\n",
       "        vertical-align: top;\n",
       "    }\n",
       "\n",
       "    .dataframe thead th {\n",
       "        text-align: right;\n",
       "    }\n",
       "</style>\n",
       "<table border=\"1\" class=\"dataframe\">\n",
       "  <thead>\n",
       "    <tr style=\"text-align: right;\">\n",
       "      <th></th>\n",
       "      <th>Prob. 0</th>\n",
       "      <th>Prob. 1</th>\n",
       "      <th>Prediction</th>\n",
       "    </tr>\n",
       "  </thead>\n",
       "  <tbody>\n",
       "    <tr>\n",
       "      <th>0</th>\n",
       "      <td>0.375666</td>\n",
       "      <td>0.624334</td>\n",
       "      <td>1</td>\n",
       "    </tr>\n",
       "    <tr>\n",
       "      <th>1</th>\n",
       "      <td>0.725325</td>\n",
       "      <td>0.274675</td>\n",
       "      <td>0</td>\n",
       "    </tr>\n",
       "    <tr>\n",
       "      <th>2</th>\n",
       "      <td>0.935100</td>\n",
       "      <td>0.064900</td>\n",
       "      <td>0</td>\n",
       "    </tr>\n",
       "    <tr>\n",
       "      <th>3</th>\n",
       "      <td>0.942931</td>\n",
       "      <td>0.057069</td>\n",
       "      <td>0</td>\n",
       "    </tr>\n",
       "    <tr>\n",
       "      <th>4</th>\n",
       "      <td>0.578118</td>\n",
       "      <td>0.421882</td>\n",
       "      <td>0</td>\n",
       "    </tr>\n",
       "  </tbody>\n",
       "</table>\n",
       "</div>"
      ],
      "text/plain": [
       "    Prob. 0   Prob. 1  Prediction\n",
       "0  0.375666  0.624334           1\n",
       "1  0.725325  0.274675           0\n",
       "2  0.935100  0.064900           0\n",
       "3  0.942931  0.057069           0\n",
       "4  0.578118  0.421882           0"
      ]
     },
     "execution_count": 226,
     "metadata": {},
     "output_type": "execute_result"
    }
   ],
   "source": [
    "# c) Create predictions for the test set\n",
    "preds_proba = forest.predict_proba(X_test)\n",
    "preds = forest.predict(X_test)   # Cut-off point equals 0.5\n",
    "\n",
    "#    Show the first 5 lines of the prediction probabilities and corresponding prediction\n",
    "pd.concat([pd.DataFrame(preds_proba, columns=[\"Prob. 0\", \"Prob. 1\"]), pd.DataFrame(preds, columns=[\"Prediction\"])], axis=1).head()"
   ]
  },
  {
   "cell_type": "code",
   "execution_count": 227,
   "metadata": {
    "colab": {
     "base_uri": "https://localhost:8080/"
    },
    "id": "K3ul8OENq8r-",
    "outputId": "aae4ae60-6cf4-4d47-b480-3bf0d7c91b98"
   },
   "outputs": [
    {
     "name": "stdout",
     "output_type": "stream",
     "text": [
      "Exited    0   1\n",
      "row_0          \n",
      "0       509  61\n",
      "1         2  11\n"
     ]
    }
   ],
   "source": [
    "# d) Evaluate results\n",
    "#    i. Create confusion matrix\n",
    "print(pd.crosstab(preds, y_test))"
   ]
  },
  {
   "cell_type": "code",
   "execution_count": 228,
   "metadata": {
    "colab": {
     "base_uri": "https://localhost:8080/"
    },
    "id": "bEvVD6odq8sB",
    "outputId": "20dd5aca-8f7c-449e-e7f1-c4f0d7678f58",
    "scrolled": true
   },
   "outputs": [
    {
     "name": "stdout",
     "output_type": "stream",
     "text": [
      "              precision    recall  f1-score   support\n",
      "\n",
      "           0       0.89      1.00      0.94       511\n",
      "           1       0.85      0.15      0.26        72\n",
      "\n",
      "    accuracy                           0.89       583\n",
      "   macro avg       0.87      0.57      0.60       583\n",
      "weighted avg       0.89      0.89      0.86       583\n",
      "\n"
     ]
    }
   ],
   "source": [
    "#    ii. Create classification report\n",
    "print(classification_report(y_test, preds))\n",
    "f1_RF = f1_score(y_test, preds)\n"
   ]
  },
  {
   "cell_type": "code",
   "execution_count": 229,
   "metadata": {
    "colab": {
     "base_uri": "https://localhost:8080/",
     "height": 562
    },
    "id": "gTyUUOUlq8sD",
    "outputId": "b2952979-5c67-4020-8ccd-0026d2e22643",
    "scrolled": true
   },
   "outputs": [
    {
     "name": "stdout",
     "output_type": "stream",
     "text": [
      "Feature ranking:\n",
      "Feature 1 (Age) 0.223061\n",
      "Feature 8 (age_prod) 0.209564\n",
      "Feature 3 (NumOfProducts) 0.196509\n",
      "Feature 4 (IsActiveMember) 0.081170\n",
      "Feature 2 (Balance) 0.079938\n",
      "Feature 7 (Geography_Germany) 0.071597\n",
      "Feature 0 (CreditScore) 0.056517\n",
      "Feature 5 (EstimatedSalary) 0.052879\n",
      "Feature 6 (Gender_Female) 0.028765\n"
     ]
    },
    {
     "data": {
      "text/plain": [
       "<Figure size 540x360 with 0 Axes>"
      ]
     },
     "metadata": {},
     "output_type": "display_data"
    },
    {
     "data": {
      "image/png": "[encoded data removed]",
      "text/plain": [
       "<Figure size 432x288 with 1 Axes>"
      ]
     },
     "metadata": {
      "needs_background": "light"
     },
     "output_type": "display_data"
    }
   ],
   "source": [
    "#    iii. Get the feature importances of the forest\n",
    "importances = forest.feature_importances_ \n",
    "std = np.std([forest.feature_importances_ for tree in forest.estimators_], axis=0)\n",
    "indices = np.argsort(importances)[::-1]\n",
    "\n",
    "importances_features = []\n",
    "print(\"Feature ranking:\")                    # Print the feature ranking\n",
    "for f in range(X_train.shape[1]):\n",
    "    print(\"Feature %d (%s) %f\" % (indices[f], X_variables[indices[f]], importances[indices[f]]))\n",
    "    importances_features.append(X_variables[indices[f]])\n",
    "\n",
    "plt.figure(figsize=(7.5,5))\n",
    "plt.figure()                                 # Plot the feature importances \n",
    "plt.bar(range(X_train.shape[1]), importances[indices],\n",
    "       color=\"r\", yerr=std[indices], align=\"center\")\n",
    "plt.title(\"Feature importances\")\n",
    "plt.ylabel(\"Importance in terms of decreasing the weighted impurity\")\n",
    "plt.xlabel(\"Feature\")\n",
    "plt.xticks(range(X_train.shape[1]), importances_features, rotation = 30)\n",
    "plt.xlim([-1, X_train.shape[1]])\n",
    "plt.show()"
   ]
  },
  {
   "cell_type": "code",
   "execution_count": 230,
   "metadata": {
    "colab": {
     "base_uri": "https://localhost:8080/",
     "height": 404
    },
    "id": "e65RXkL_q8sG",
    "outputId": "ce459d11-966a-4971-832f-c7d15ab1c7df",
    "scrolled": true
   },
   "outputs": [
    {
     "data": {
      "image/png": "[encoded data removed]",
      "text/plain": [
       "<Figure size 720x432 with 1 Axes>"
      ]
     },
     "metadata": {
      "needs_background": "light"
     },
     "output_type": "display_data"
    }
   ],
   "source": [
    "#    iv. Create ROC curve\n",
    "fpr, tpr, t = metrics.roc_curve(y_test, preds_proba[:,1])\n",
    "\n",
    "#     v. Calculate AUC\n",
    "RF_roc_auc_tree = metrics.auc(fpr, tpr)\n",
    "\n",
    "plt.figure(figsize=(10,6))\n",
    "plt.plot([0,1],[0,1],linestyle = '--',lw = 2,color = 'black')      # Plot results\n",
    "plt.plot(fpr, tpr, lw=2, alpha=0.3, label='Mean ROC Decision Tree RF (AUC = %0.2f)' % (RF_roc_auc_tree))\n",
    "plt.title('ROC curve')\n",
    "plt.ylabel('True Positive Rate')\n",
    "plt.xlabel('False Positive Rate')\n",
    "plt.legend(loc=\"lower right\")\n",
    "plt.show()"
   ]
  },
  {
   "cell_type": "markdown",
   "metadata": {
    "id": "-dRCsTA4q8sI"
   },
   "source": [
    "<a id=\"5d\"></a> \n",
    "### C) ADABOOST (Adaptive Boosting Model)"
   ]
  },
  {
   "cell_type": "code",
   "execution_count": 231,
   "metadata": {
    "id": "eMBooCMoq8sI"
   },
   "outputs": [],
   "source": [
    "# Define X and y \n",
    "\n",
    "X_train = data_train.loc[:, X_variables]\n",
    "y_train = data_train[y_variable]\n",
    "X_test = data_test.loc[:, X_variables]\n",
    "y_test = data_test[y_variable]"
   ]
  },
  {
   "cell_type": "code",
   "execution_count": 232,
   "metadata": {
    "id": "V4B2_jWXq8sK"
   },
   "outputs": [],
   "source": [
    "# a) Set model parameters \n",
    "#     Note: You can tweak the size of your boost by changing 'N_trees', but note computation time increases with size\n",
    "#     Note: if Min_bucket is too large, the trees might not branch\n",
    "N_trees        = 5                          # Number of trees that are estimated\n",
    "Min_num_splits = 50                            # Minimum number of items to split    \n",
    "Min_bucket     = math.floor(Min_num_splits/3)  # Minimum number of items per bucket\n",
    "Max_depth      = 5                             # Maximum depth of each tree (nr of levels)\n",
    "Learning_rate  = 0.6                            # The learning rate"
   ]
  },
  {
   "cell_type": "code",
   "execution_count": 233,
   "metadata": {
    "colab": {
     "base_uri": "https://localhost:8080/"
    },
    "id": "kzOBXyOQq8sM",
    "outputId": "ecd2eba4-ff5f-4779-dbc4-88db37315a79"
   },
   "outputs": [
    {
     "data": {
      "text/html": [
       "<style>#sk-container-id-14 {color: black;background-color: white;}#sk-container-id-14 pre{padding: 0;}#sk-container-id-14 div.sk-toggleable {background-color: white;}#sk-container-id-14 label.sk-toggleable__label {cursor: pointer;display: block;width: 100%;margin-bottom: 0;padding: 0.3em;box-sizing: border-box;text-align: center;}#sk-container-id-14 label.sk-toggleable__label-arrow:before {content: \"▸\";float: left;margin-right: 0.25em;color: #696969;}#sk-container-id-14 label.sk-toggleable__label-arrow:hover:before {color: black;}#sk-container-id-14 div.sk-estimator:hover label.sk-toggleable__label-arrow:before {color: black;}#sk-container-id-14 div.sk-toggleable__content {max-height: 0;max-width: 0;overflow: hidden;text-align: left;background-color: #f0f8ff;}#sk-container-id-14 div.sk-toggleable__content pre {margin: 0.2em;color: black;border-radius: 0.25em;background-color: #f0f8ff;}#sk-container-id-14 input.sk-toggleable__control:checked~div.sk-toggleable__content {max-height: 200px;max-width: 100%;overflow: auto;}#sk-container-id-14 input.sk-toggleable__control:checked~label.sk-toggleable__label-arrow:before {content: \"▾\";}#sk-container-id-14 div.sk-estimator input.sk-toggleable__control:checked~label.sk-toggleable__label {background-color: #d4ebff;}#sk-container-id-14 div.sk-label input.sk-toggleable__control:checked~label.sk-toggleable__label {background-color: #d4ebff;}#sk-container-id-14 input.sk-hidden--visually {border: 0;clip: rect(1px 1px 1px 1px);clip: rect(1px, 1px, 1px, 1px);height: 1px;margin: -1px;overflow: hidden;padding: 0;position: absolute;width: 1px;}#sk-container-id-14 div.sk-estimator {font-family: monospace;background-color: #f0f8ff;border: 1px dotted black;border-radius: 0.25em;box-sizing: border-box;margin-bottom: 0.5em;}#sk-container-id-14 div.sk-estimator:hover {background-color: #d4ebff;}#sk-container-id-14 div.sk-parallel-item::after {content: \"\";width: 100%;border-bottom: 1px solid gray;flex-grow: 1;}#sk-container-id-14 div.sk-label:hover label.sk-toggleable__label {background-color: #d4ebff;}#sk-container-id-14 div.sk-serial::before {content: \"\";position: absolute;border-left: 1px solid gray;box-sizing: border-box;top: 0;bottom: 0;left: 50%;z-index: 0;}#sk-container-id-14 div.sk-serial {display: flex;flex-direction: column;align-items: center;background-color: white;padding-right: 0.2em;padding-left: 0.2em;position: relative;}#sk-container-id-14 div.sk-item {position: relative;z-index: 1;}#sk-container-id-14 div.sk-parallel {display: flex;align-items: stretch;justify-content: center;background-color: white;position: relative;}#sk-container-id-14 div.sk-item::before, #sk-container-id-14 div.sk-parallel-item::before {content: \"\";position: absolute;border-left: 1px solid gray;box-sizing: border-box;top: 0;bottom: 0;left: 50%;z-index: -1;}#sk-container-id-14 div.sk-parallel-item {display: flex;flex-direction: column;z-index: 1;position: relative;background-color: white;}#sk-container-id-14 div.sk-parallel-item:first-child::after {align-self: flex-end;width: 50%;}#sk-container-id-14 div.sk-parallel-item:last-child::after {align-self: flex-start;width: 50%;}#sk-container-id-14 div.sk-parallel-item:only-child::after {width: 0;}#sk-container-id-14 div.sk-dashed-wrapped {border: 1px dashed gray;margin: 0 0.4em 0.5em 0.4em;box-sizing: border-box;padding-bottom: 0.4em;background-color: white;}#sk-container-id-14 div.sk-label label {font-family: monospace;font-weight: bold;display: inline-block;line-height: 1.2em;}#sk-container-id-14 div.sk-label-container {text-align: center;}#sk-container-id-14 div.sk-container {/* jupyter's `normalize.less` sets `[hidden] { display: none; }` but bootstrap.min.css set `[hidden] { display: none !important; }` so we also need the `!important` here to be able to override the default hidden behavior on the sphinx rendered scikit-learn.org. See: https://github.com/scikit-learn/scikit-learn/issues/21755 */display: inline-block !important;position: relative;}#sk-container-id-14 div.sk-text-repr-fallback {display: none;}</style><div id=\"sk-container-id-14\" class=\"sk-top-container\"><div class=\"sk-text-repr-fallback\"><pre>AdaBoostClassifier(estimator=DecisionTreeClassifier(max_depth=5,\n",
       "                                                    min_samples_leaf=16,\n",
       "                                                    min_samples_split=50),\n",
       "                   learning_rate=0.6, n_estimators=5)</pre><b>In a Jupyter environment, please rerun this cell to show the HTML representation or trust the notebook. <br />On GitHub, the HTML representation is unable to render, please try loading this page with nbviewer.org.</b></div><div class=\"sk-container\" hidden><div class=\"sk-item sk-dashed-wrapped\"><div class=\"sk-label-container\"><div class=\"sk-label sk-toggleable\"><input class=\"sk-toggleable__control sk-hidden--visually\" id=\"sk-estimator-id-22\" type=\"checkbox\" ><label for=\"sk-estimator-id-22\" class=\"sk-toggleable__label sk-toggleable__label-arrow\">AdaBoostClassifier</label><div class=\"sk-toggleable__content\"><pre>AdaBoostClassifier(estimator=DecisionTreeClassifier(max_depth=5,\n",
       "                                                    min_samples_leaf=16,\n",
       "                                                    min_samples_split=50),\n",
       "                   learning_rate=0.6, n_estimators=5)</pre></div></div></div><div class=\"sk-parallel\"><div class=\"sk-parallel-item\"><div class=\"sk-item\"><div class=\"sk-label-container\"><div class=\"sk-label sk-toggleable\"><input class=\"sk-toggleable__control sk-hidden--visually\" id=\"sk-estimator-id-23\" type=\"checkbox\" ><label for=\"sk-estimator-id-23\" class=\"sk-toggleable__label sk-toggleable__label-arrow\">estimator: DecisionTreeClassifier</label><div class=\"sk-toggleable__content\"><pre>DecisionTreeClassifier(max_depth=5, min_samples_leaf=16, min_samples_split=50)</pre></div></div></div><div class=\"sk-serial\"><div class=\"sk-item\"><div class=\"sk-estimator sk-toggleable\"><input class=\"sk-toggleable__control sk-hidden--visually\" id=\"sk-estimator-id-24\" type=\"checkbox\" ><label for=\"sk-estimator-id-24\" class=\"sk-toggleable__label sk-toggleable__label-arrow\">DecisionTreeClassifier</label><div class=\"sk-toggleable__content\"><pre>DecisionTreeClassifier(max_depth=5, min_samples_leaf=16, min_samples_split=50)</pre></div></div></div></div></div></div></div></div></div></div>"
      ],
      "text/plain": [
       "AdaBoostClassifier(estimator=DecisionTreeClassifier(max_depth=5,\n",
       "                                                    min_samples_leaf=16,\n",
       "                                                    min_samples_split=50),\n",
       "                   learning_rate=0.6, n_estimators=5)"
      ]
     },
     "execution_count": 233,
     "metadata": {},
     "output_type": "execute_result"
    }
   ],
   "source": [
    "# b) Estimate model\n",
    "adaptboost = AdaBoostClassifier(n_estimators=N_trees\n",
    "                                ,base_estimator=DecisionTreeClassifier(max_depth = Max_depth\n",
    "                                                                       ,min_samples_split = Min_num_splits\n",
    "                                                                       ,min_samples_leaf = Min_bucket\n",
    "                                                                       ,criterion = \"gini\"              \n",
    "                                                                       ,splitter = \"best\"\n",
    "                                                                       )\n",
    "                                ,learning_rate=Learning_rate\n",
    "                               )\n",
    "\n",
    "adaptboost.fit(X_train, y_train)      # Fit the model over the train set"
   ]
  },
  {
   "cell_type": "code",
   "execution_count": 234,
   "metadata": {
    "colab": {
     "base_uri": "https://localhost:8080/",
     "height": 194
    },
    "id": "yUCxQbEhq8sO",
    "outputId": "f9227f33-f2fe-4154-b957-c004db1f6b0b"
   },
   "outputs": [
    {
     "data": {
      "text/html": [
       "<div>\n",
       "<style scoped>\n",
       "    .dataframe tbody tr th:only-of-type {\n",
       "        vertical-align: middle;\n",
       "    }\n",
       "\n",
       "    .dataframe tbody tr th {\n",
       "        vertical-align: top;\n",
       "    }\n",
       "\n",
       "    .dataframe thead th {\n",
       "        text-align: right;\n",
       "    }\n",
       "</style>\n",
       "<table border=\"1\" class=\"dataframe\">\n",
       "  <thead>\n",
       "    <tr style=\"text-align: right;\">\n",
       "      <th></th>\n",
       "      <th>Prob. 0</th>\n",
       "      <th>Prob. 1</th>\n",
       "      <th>Prediction</th>\n",
       "    </tr>\n",
       "  </thead>\n",
       "  <tbody>\n",
       "    <tr>\n",
       "      <th>0</th>\n",
       "      <td>0.358288</td>\n",
       "      <td>0.641712</td>\n",
       "      <td>1</td>\n",
       "    </tr>\n",
       "    <tr>\n",
       "      <th>1</th>\n",
       "      <td>0.562116</td>\n",
       "      <td>0.437884</td>\n",
       "      <td>0</td>\n",
       "    </tr>\n",
       "    <tr>\n",
       "      <th>2</th>\n",
       "      <td>0.719167</td>\n",
       "      <td>0.280833</td>\n",
       "      <td>0</td>\n",
       "    </tr>\n",
       "    <tr>\n",
       "      <th>3</th>\n",
       "      <td>0.759643</td>\n",
       "      <td>0.240357</td>\n",
       "      <td>0</td>\n",
       "    </tr>\n",
       "    <tr>\n",
       "      <th>4</th>\n",
       "      <td>0.516803</td>\n",
       "      <td>0.483197</td>\n",
       "      <td>0</td>\n",
       "    </tr>\n",
       "  </tbody>\n",
       "</table>\n",
       "</div>"
      ],
      "text/plain": [
       "    Prob. 0   Prob. 1  Prediction\n",
       "0  0.358288  0.641712           1\n",
       "1  0.562116  0.437884           0\n",
       "2  0.719167  0.280833           0\n",
       "3  0.759643  0.240357           0\n",
       "4  0.516803  0.483197           0"
      ]
     },
     "execution_count": 234,
     "metadata": {},
     "output_type": "execute_result"
    }
   ],
   "source": [
    "# c) Create predictions for the test set\n",
    "preds_proba = adaptboost.predict_proba(X_test)\n",
    "preds = adaptboost.predict(X_test)   # Cut-off point equals 0.5\n",
    "\n",
    "#    Show the first 5 lines of the prediction probabilities and corresponding prediction\n",
    "pd.concat([pd.DataFrame(preds_proba, columns=[\"Prob. 0\", \"Prob. 1\"]), pd.DataFrame(preds, columns=[\"Prediction\"])], axis=1).head()"
   ]
  },
  {
   "cell_type": "code",
   "execution_count": 235,
   "metadata": {
    "colab": {
     "base_uri": "https://localhost:8080/"
    },
    "id": "_J218V24q8sP",
    "outputId": "f0b6be2f-f59c-401d-c4cb-1e917aa2da3a"
   },
   "outputs": [
    {
     "name": "stdout",
     "output_type": "stream",
     "text": [
      "Exited    0   1\n",
      "row_0          \n",
      "0       503  51\n",
      "1         8  21\n"
     ]
    }
   ],
   "source": [
    "# d) Evaluate results\n",
    "#    i. Create confusion matrix\n",
    "print(pd.crosstab(preds, y_test))"
   ]
  },
  {
   "cell_type": "code",
   "execution_count": 236,
   "metadata": {
    "colab": {
     "base_uri": "https://localhost:8080/"
    },
    "id": "7rKlGnrxq8sS",
    "outputId": "bb65b62b-aa49-43eb-c88e-1275399e912f"
   },
   "outputs": [
    {
     "name": "stdout",
     "output_type": "stream",
     "text": [
      "              precision    recall  f1-score   support\n",
      "\n",
      "           0       0.91      0.98      0.94       511\n",
      "           1       0.72      0.29      0.42        72\n",
      "\n",
      "    accuracy                           0.90       583\n",
      "   macro avg       0.82      0.64      0.68       583\n",
      "weighted avg       0.89      0.90      0.88       583\n",
      "\n"
     ]
    }
   ],
   "source": [
    "#    ii. Create classification report\n",
    "print(classification_report(y_test, preds))\n",
    "f1_ADA = f1_score(y_test, preds)"
   ]
  },
  {
   "cell_type": "code",
   "execution_count": 237,
   "metadata": {
    "colab": {
     "base_uri": "https://localhost:8080/",
     "height": 562
    },
    "id": "ujvhmVFrq8sU",
    "outputId": "ffbc5783-9cd8-4634-b7e5-24904dbd7fb9",
    "scrolled": true
   },
   "outputs": [
    {
     "name": "stdout",
     "output_type": "stream",
     "text": [
      "Feature ranking:\n",
      "Feature 2 (Balance) 0.254007\n",
      "Feature 5 (EstimatedSalary) 0.187719\n",
      "Feature 8 (age_prod) 0.152942\n",
      "Feature 3 (NumOfProducts) 0.134866\n",
      "Feature 1 (Age) 0.115086\n",
      "Feature 0 (CreditScore) 0.053551\n",
      "Feature 4 (IsActiveMember) 0.045824\n",
      "Feature 7 (Geography_Germany) 0.037337\n",
      "Feature 6 (Gender_Female) 0.018668\n"
     ]
    },
    {
     "data": {
      "text/plain": [
       "<Figure size 540x360 with 0 Axes>"
      ]
     },
     "metadata": {},
     "output_type": "display_data"
    },
    {
     "data": {
      "image/png": "[encoded data removed]",
      "text/plain": [
       "<Figure size 432x288 with 1 Axes>"
      ]
     },
     "metadata": {
      "needs_background": "light"
     },
     "output_type": "display_data"
    }
   ],
   "source": [
    "#    iii. Get the feature importances of the Adaboost\n",
    "importances = adaptboost.feature_importances_ \n",
    "std = np.std([adaptboost.feature_importances_ for tree in adaptboost.estimators_], axis=0)\n",
    "indices = np.argsort(importances)[::-1]\n",
    "\n",
    "importances_features = []\n",
    "print(\"Feature ranking:\")                    # Print the feature ranking\n",
    "for f in range(X_train.shape[1]):\n",
    "    print(\"Feature %d (%s) %f\" % (indices[f], X_variables[indices[f]], importances[indices[f]]))\n",
    "    importances_features.append(X_variables[indices[f]])\n",
    "\n",
    "plt.figure(figsize=(7.5,5))\n",
    "plt.figure()                                 # Plot the feature importances \n",
    "plt.bar(range(X_train.shape[1]), importances[indices],\n",
    "       color=\"r\", yerr=std[indices], align=\"center\")\n",
    "plt.title(\"Feature importances\")\n",
    "plt.ylabel(\"Importance in terms of decreasing the weighted impurity\")\n",
    "plt.xlabel(\"Feature\")\n",
    "plt.xticks(range(X_train.shape[1]), importances_features, rotation = 30)\n",
    "plt.xlim([-1, X_train.shape[1]])\n",
    "plt.show()"
   ]
  },
  {
   "cell_type": "code",
   "execution_count": 238,
   "metadata": {
    "colab": {
     "base_uri": "https://localhost:8080/",
     "height": 404
    },
    "id": "uRTPTbJPq8sY",
    "outputId": "4a0205c2-cc1b-47b0-d9d8-5d38397077cc",
    "scrolled": true
   },
   "outputs": [
    {
     "data": {
      "image/png": "[encoded data removed]",
      "text/plain": [
       "<Figure size 720x432 with 1 Axes>"
      ]
     },
     "metadata": {
      "needs_background": "light"
     },
     "output_type": "display_data"
    }
   ],
   "source": [
    "#    iv. Create ROC curve\n",
    "fpr, tpr, t = metrics.roc_curve(y_test, preds_proba[:,1])\n",
    "\n",
    "#     v. Calculate AUC\n",
    "ADA_roc_auc_tree = metrics.auc(fpr, tpr)\n",
    "\n",
    "plt.figure(figsize=(10,6))\n",
    "plt.plot([0,1],[0,1],linestyle = '--',lw = 2,color = 'black')      # Plot results\n",
    "plt.plot(fpr, tpr, lw=2, alpha=0.3, label='Mean ROC Decision Tree ADABOOST (AUC = %0.2f)' % (ADA_roc_auc_tree))\n",
    "plt.title('ROC curve')\n",
    "plt.ylabel('True Positive Rate')\n",
    "plt.xlabel('False Positive Rate')\n",
    "plt.legend(loc=\"lower right\")\n",
    "plt.show()"
   ]
  },
  {
   "cell_type": "code",
   "execution_count": 239,
   "metadata": {
    "colab": {
     "base_uri": "https://localhost:8080/",
     "height": 368
    },
    "id": "1UvSy-4tq8sa",
    "outputId": "5c2bab51-6e2e-44f0-fdae-f7e0fada3dad",
    "scrolled": false
   },
   "outputs": [
    {
     "name": "stderr",
     "output_type": "stream",
     "text": [
      "C:\\Users\\geertekoster\\AppData\\Roaming\\Python\\Python39\\site-packages\\sklearn\\base.py:439: UserWarning: X does not have valid feature names, but AdaBoostClassifier was fitted with feature names\n",
      "  warnings.warn(\n"
     ]
    },
    {
     "data": {
      "text/plain": [
       "Text(0.5, 0, 'Number of estimators')"
      ]
     },
     "execution_count": 239,
     "metadata": {},
     "output_type": "execute_result"
    },
    {
     "data": {
      "image/png": "[encoded data removed]",
      "text/plain": [
       "<Figure size 1080x360 with 1 Axes>"
      ]
     },
     "metadata": {
      "needs_background": "light"
     },
     "output_type": "display_data"
    }
   ],
   "source": [
    "# e) Plot error with respect to number of estimators (trees)\n",
    "trained_adaptboost = adaptboost.fit(X_train, y_train)  \n",
    "\n",
    "real_test_errors = []\n",
    "for real_test_predict in trained_adaptboost.staged_predict(X_test):\n",
    "    real_test_errors.append(1. - accuracy_score(real_test_predict, np.ravel(y_test)))\n",
    "n_trees_real = len(trained_adaptboost)\n",
    "real_estimator_errors = trained_adaptboost.estimator_errors_[:n_trees_real]\n",
    "plt.figure(figsize=(15, 5))\n",
    "\n",
    "plt.plot(range(1, n_trees_real + 1),\n",
    "         real_test_errors, c='black',\n",
    "         linestyle='dashed')\n",
    "plt.ylim(min(real_test_errors), max(real_test_errors)+0.1)\n",
    "plt.title('Error with respect to the number of trees')\n",
    "plt.ylabel('Test Error')\n",
    "plt.xlabel('Number of estimators')"
   ]
  },
  {
   "cell_type": "markdown",
   "metadata": {
    "id": "dj0kgqsjq8sb"
   },
   "source": [
    "<a id=\"5e\"></a> \n",
    "### D) XGBoost"
   ]
  },
  {
   "cell_type": "code",
   "execution_count": 240,
   "metadata": {
    "colab": {
     "base_uri": "https://localhost:8080/",
     "height": 1000
    },
    "id": "Q1jH0p7rq8sc",
    "outputId": "82ddff8b-3380-4393-f440-ddc0bc9e266d",
    "scrolled": true
   },
   "outputs": [
    {
     "name": "stdout",
     "output_type": "stream",
     "text": [
      "['CreditScore', 'Age', 'Balance', 'NumOfProducts', 'IsActiveMember', 'EstimatedSalary', 'Gender_Female', 'Geography_Germany', 'age_prod']\n",
      "Feature ranking:\n",
      "Feature 8 (age_prod) 0.212679\n",
      "Feature 5 (EstimatedSalary) 0.197091\n",
      "Feature 3 (NumOfProducts) 0.134639\n",
      "Feature 0 (CreditScore) 0.110888\n",
      "Feature 2 (Balance) 0.110835\n",
      "Feature 1 (Age) 0.074470\n",
      "Feature 4 (IsActiveMember) 0.073705\n",
      "Feature 7 (Geography_Germany) 0.058175\n",
      "Feature 6 (Gender_Female) 0.027517\n"
     ]
    },
    {
     "data": {
      "image/png": "[encoded data removed]",
      "text/plain": [
       "<Figure size 720x432 with 1 Axes>"
      ]
     },
     "metadata": {
      "needs_background": "light"
     },
     "output_type": "display_data"
    }
   ],
   "source": [
    "# Define X and y \n",
    "# X_variables = [''                 # ADJUST VARIABLES TO THOSE YOU WISH TO INCLUDE\n",
    "\n",
    "#               ]\n",
    "# y_variable = ''\n",
    "\n",
    "X_train = data_train.loc[:, X_variables]\n",
    "y_train = data_train[y_variable]\n",
    "X_test = data_test.loc[:, X_variables]\n",
    "y_test = data_test[y_variable]\n",
    "\n",
    "print(X_variables)\n",
    "\n",
    "# a) Set model parameters \n",
    "N_trees        = 20                         # Number of trees that are estimated\n",
    "Max_depth      = 5                             # Maximum depth of each tree (nr of levels)\n",
    "Learning_rate  = 1                             # The learning rate ('eta')\n",
    "Min_bucket     = 10                           # Minimum number of items per bucket\n",
    "Subsample      = 1                           # Subsample ratio of the training instance\n",
    "Verbose        = 0                             # Whether to print messages while running boosting\n",
    "\n",
    "# b) Estimate model\n",
    "XGB = GradientBoostingClassifier( random_state=12,\n",
    "     n_estimators=N_trees\n",
    "                         ,max_depth=Max_depth \n",
    "                         ,learning_rate=Learning_rate\n",
    "                         ,min_samples_leaf=Min_bucket\n",
    "                         ,subsample=Subsample\n",
    "                         ,verbose=Verbose\n",
    "                      )\n",
    "XGB.fit(X_train, y_train)      # Fit the model over the train set\n",
    "\n",
    "# c) Create predictions for the test set\n",
    "preds_proba = XGB.predict_proba(X_test)\n",
    "preds = XGB.predict(X_test)   # Cut-off point equals 0.5\n",
    "\n",
    "#    Show the first 5 lines of the prediction probabilities and corresponding prediction\n",
    "#pd.concat([pd.DataFrame(preds_proba, columns=[\"Prob. 0\", \"Prob. 1\"]), pd.DataFrame(preds, columns=[\"Prediction\"])], axis=1).head()\n",
    "\n",
    "# d) Evaluate results\n",
    "#    i. Create confusion matrix\n",
    "#print(pd.crosstab(preds, y_test))\n",
    "\n",
    "#    ii. Create classification report\n",
    "#print(classification_report(y_test, preds))\n",
    "f1_XGB = f1_score(y_test, preds)\n",
    "\n",
    "#    iii. Get the feature importances of the XGBoost\n",
    "importances = XGB.feature_importances_ \n",
    "std = np.std([XGB.feature_importances_], axis=0)\n",
    "indices = np.argsort(importances)[::-1]\n",
    "\n",
    "importances_features = []\n",
    "print(\"Feature ranking:\")                    # Print the feature ranking\n",
    "for f in range(X_train.shape[1]):\n",
    "    print(\"Feature %d (%s) %f\" % (indices[f], X_variables[indices[f]], importances[indices[f]]))\n",
    "    importances_features.append(X_variables[indices[f]])\n",
    "\n",
    "if False:\n",
    "    plt.figure(figsize=(7.5,5))\n",
    "    plt.figure()                                 # Plot the feature importances \n",
    "    plt.bar(range(X_train.shape[1]), importances[indices],\n",
    "           color=\"r\", yerr=std[indices], align=\"center\")\n",
    "    plt.title(\"Feature importances\")\n",
    "    plt.ylabel(\"Importance in terms of decreasing the weighted impurity\")\n",
    "    plt.xlabel(\"Feature\")\n",
    "    plt.xticks(range(X_train.shape[1]), importances_features, rotation = 30)\n",
    "    plt.xlim([-1, X_train.shape[1]])\n",
    "    plt.show()\n",
    "\n",
    "# Create ROC curve\n",
    "fpr, tpr, t = metrics.roc_curve(y_test, preds_proba[:,1])\n",
    "\n",
    "# Calculate AUC\n",
    "XGB_roc_auc_tree = metrics.auc(fpr, tpr)\n",
    "\n",
    "plt.figure(figsize=(10,6))\n",
    "plt.plot([0,1],[0,1],linestyle = '--',lw = 2,color = 'black')      # Plot results\n",
    "plt.plot(fpr, tpr, lw=2, alpha=0.3, label='Mean ROC Decision Tree XGBoost (AUC = %0.2f)' % (XGB_roc_auc_tree))\n",
    "plt.title('ROC curve')\n",
    "plt.ylabel('True Positive Rate')\n",
    "plt.xlabel('False Positive Rate')\n",
    "plt.legend(loc=\"lower right\")\n",
    "plt.show()"
   ]
  },
  {
   "cell_type": "code",
   "execution_count": 243,
   "metadata": {
    "colab": {
     "base_uri": "https://localhost:8080/"
    },
    "id": "cnApF-FBq8se",
    "outputId": "4dfe2be5-448b-4378-a069-cbcffb6a26fa"
   },
   "outputs": [
    {
     "name": "stdout",
     "output_type": "stream",
     "text": [
      "Area under the ROC Curve = 0.785659926070885\n"
     ]
    }
   ],
   "source": [
    "# Define X and y\n",
    "X_variables = ['CreditScore',               'Age',            'Tenure',\n",
    "                 'Balance',     'NumOfProducts',         'HasCrCard',\n",
    "          'IsActiveMember',   'EstimatedSalary',           \n",
    "                    '0', '1', '2', \n",
    "                   '3','4',  '5', \n",
    "                   '6', '7', '8', \n",
    "                   '9', '10', '11', \n",
    "                   '12', '13', '14', \n",
    "                   '15', '16', '17', \n",
    "                   '18', '19', '20',\n",
    "              'avg_tenure',         'new_money',        'age_tenure',\n",
    "                'age_prod',            'Credit',     'Gender_Female',\n",
    "             'Gender_Male',  'Geography_France', 'Geography_Germany',\n",
    "         'Geography_Spain']\n",
    "y_variable = 'Exited'\n",
    "\n",
    "# Sampling methods\n",
    "desiredPercentage = 0.1 # Decide the percentage that you want in over/under sampling\n",
    "desiredFraction = desiredPercentage/(1-desiredPercentage)\n",
    "ranOS = RandomOverSampler(sampling_strategy=desiredFraction, random_state=1) # Oversampling\n",
    "ranUS = RandomUnderSampler(sampling_strategy=desiredFraction, random_state=1) # Undersampling\n",
    "smt = SMOTE(k_neighbors=2) # SMOTE\n",
    "#Bonus: tweak the number of neighbors to maximize results\n",
    "#TL = TomekLinks('not majority') # TomekLinks\n",
    "\n",
    "X_train = data_train.loc[:, X_variables]\n",
    "y_train = data_train[y_variable]\n",
    "X_test = data_test.loc[:, X_variables]\n",
    "X_test.columns = X_test.columns.astype(str)\n",
    "\n",
    "y_test = data_test[y_variable]\n",
    "\n",
    "X_train_balanced, y_train_balanced = X_train, y_train\n",
    "X_train_balanced.columns = X_train_balanced.columns.astype(str)\n",
    "X_train_balanced, y_train_balanced = smt.fit_resample(X_train, y_train) # Use sampling method\n",
    "\n",
    "\n",
    "# Estimate model\n",
    "XGB = GradientBoostingClassifier( random_state=12\n",
    "                         ,n_estimators=10                         # Number of trees that are estimated\n",
    "                         ,max_depth=3                             # Maximum depth of each tree (nr of levels) \n",
    "                         ,learning_rate=0.5                             # The learning rate ('eta')\n",
    "                         ,min_samples_leaf=1                           # Minimum number of items per bucket\n",
    "                         ,max_features='sqrt'\n",
    "                         ,subsample=0.8                           # Subsample ratio of the training instance\n",
    "                         ,verbose=0                             # Whether to print messages while running boosting\n",
    "                      )\n",
    "XGB.fit(X_train_balanced, y_train_balanced)\n",
    "\n",
    "# d) Create predictions for the test set and calculate AUC\n",
    "preds_proba = XGB.predict_proba(X_test)\n",
    "preds = XGB.predict(X_test)   # Cut-off point equals 0.5\n",
    "fpr, tpr, t = metrics.roc_curve(y_test, preds_proba[:, 1])  \n",
    "roc_auc_xgboost = metrics.auc(fpr, tpr)\n",
    "print('Area under the ROC Curve = {}'.format(roc_auc_xgboost))"
   ]
  },
  {
   "cell_type": "markdown",
   "metadata": {
    "id": "03fAgfouq8sf"
   },
   "source": [
    "### Compare models"
   ]
  },
  {
   "cell_type": "code",
   "execution_count": 244,
   "metadata": {
    "colab": {
     "base_uri": "https://localhost:8080/"
    },
    "id": "qtZ0IUhiq8sf",
    "outputId": "781aabf9-5f0c-414e-b051-c758b05ecb19"
   },
   "outputs": [
    {
     "name": "stdout",
     "output_type": "stream",
     "text": [
      "AUC Decision Tree: 0.8202598390954556\n",
      "AUC Random Forest: 0.8566536203522506\n",
      "AUC Adaptive Boosting: 0.8556479669493369\n",
      "AUC XGBoost: 0.785659926070885\n"
     ]
    }
   ],
   "source": [
    "print('AUC Decision Tree:', CART_roc_auc_tree)\n",
    "print('AUC Random Forest:', RF_roc_auc_tree)\n",
    "print('AUC Adaptive Boosting:', ADA_roc_auc_tree)\n",
    "print('AUC XGBoost:', roc_auc_xgboost)"
   ]
  },
  {
   "cell_type": "markdown",
   "metadata": {
    "id": "j3ZUapzSq8sh"
   },
   "source": [
    "<a id=\"8\"></a> \n",
    "\n",
    "\n",
    "## 8. K-fold cross validation\n",
    "\n",
    "The code below iterates through several data balancing methods and several (randomly selected) hyperparameter configurations for each of the four model techniques."
   ]
  },
  {
   "cell_type": "code",
   "execution_count": 245,
   "metadata": {
    "colab": {
     "base_uri": "https://localhost:8080/"
    },
    "id": "psZ85ilcq8sh",
    "outputId": "13ae4c33-cfd1-4794-d681-4e7ab85d1cad"
   },
   "outputs": [
    {
     "name": "stdout",
     "output_type": "stream",
     "text": [
      "None - Decision Tree\n",
      "None - Random Forest\n",
      "None - Adaboost\n",
      "None - XGBoost\n",
      "Oversampling - Decision Tree\n",
      "Oversampling - Random Forest\n",
      "Oversampling - Adaboost\n"
     ]
    },
    {
     "ename": "KeyboardInterrupt",
     "evalue": "",
     "output_type": "error",
     "traceback": [
      "\u001b[1;31m---------------------------------------------------------------------------\u001b[0m",
      "\u001b[1;31mKeyboardInterrupt\u001b[0m                         Traceback (most recent call last)",
      "Input \u001b[1;32mIn [245]\u001b[0m, in \u001b[0;36m<cell line: 49>\u001b[1;34m()\u001b[0m\n\u001b[0;32m     97\u001b[0m ada_params \u001b[38;5;241m=\u001b[39m \u001b[38;5;28mdict\u001b[39m(\n\u001b[0;32m     98\u001b[0m     estimator__criterion         \u001b[38;5;241m=\u001b[39m criterion         ,\n\u001b[0;32m     99\u001b[0m     learning_rate                \u001b[38;5;241m=\u001b[39m learning_rate     ,\n\u001b[1;32m   (...)\u001b[0m\n\u001b[0;32m    105\u001b[0m     estimator__splitter          \u001b[38;5;241m=\u001b[39m splitter          \n\u001b[0;32m    106\u001b[0m )\n\u001b[0;32m    107\u001b[0m ada_search \u001b[38;5;241m=\u001b[39m RandomizedSearchCV(AdaBoostClassifier(estimator \u001b[38;5;241m=\u001b[39m DecisionTreeClassifier()), ada_params, n_iter\u001b[38;5;241m=\u001b[39mn_iterations, verbose\u001b[38;5;241m=\u001b[39m\u001b[38;5;28;01mFalse\u001b[39;00m)\n\u001b[1;32m--> 108\u001b[0m ada_search \u001b[38;5;241m=\u001b[39m \u001b[43mada_search\u001b[49m\u001b[38;5;241;43m.\u001b[39;49m\u001b[43mfit\u001b[49m\u001b[43m(\u001b[49m\u001b[43mX_train_balanced\u001b[49m\u001b[43m,\u001b[49m\u001b[43m \u001b[49m\u001b[43my_train_balanced\u001b[49m\u001b[43m)\u001b[49m\n\u001b[0;32m    109\u001b[0m ada_model \u001b[38;5;241m=\u001b[39m ada_search\u001b[38;5;241m.\u001b[39mbest_estimator_\n\u001b[0;32m    110\u001b[0m preds_proba \u001b[38;5;241m=\u001b[39m ada_model\u001b[38;5;241m.\u001b[39mpredict_proba(X_test)\n",
      "File \u001b[1;32m~\\AppData\\Roaming\\Python\\Python39\\site-packages\\sklearn\\model_selection\\_search.py:909\u001b[0m, in \u001b[0;36mBaseSearchCV.fit\u001b[1;34m(self, X, y, groups, **fit_params)\u001b[0m\n\u001b[0;32m    907\u001b[0m refit_start_time \u001b[38;5;241m=\u001b[39m time\u001b[38;5;241m.\u001b[39mtime()\n\u001b[0;32m    908\u001b[0m \u001b[38;5;28;01mif\u001b[39;00m y \u001b[38;5;129;01mis\u001b[39;00m \u001b[38;5;129;01mnot\u001b[39;00m \u001b[38;5;28;01mNone\u001b[39;00m:\n\u001b[1;32m--> 909\u001b[0m     \u001b[38;5;28mself\u001b[39m\u001b[38;5;241m.\u001b[39mbest_estimator_\u001b[38;5;241m.\u001b[39mfit(X, y, \u001b[38;5;241m*\u001b[39m\u001b[38;5;241m*\u001b[39mfit_params)\n\u001b[0;32m    910\u001b[0m \u001b[38;5;28;01melse\u001b[39;00m:\n\u001b[0;32m    911\u001b[0m     \u001b[38;5;28mself\u001b[39m\u001b[38;5;241m.\u001b[39mbest_estimator_\u001b[38;5;241m.\u001b[39mfit(X, \u001b[38;5;241m*\u001b[39m\u001b[38;5;241m*\u001b[39mfit_params)\n",
      "File \u001b[1;32m~\\AppData\\Roaming\\Python\\Python39\\site-packages\\sklearn\\ensemble\\_weight_boosting.py:162\u001b[0m, in \u001b[0;36mBaseWeightBoosting.fit\u001b[1;34m(self, X, y, sample_weight)\u001b[0m\n\u001b[0;32m    159\u001b[0m sample_weight[zero_weight_mask] \u001b[38;5;241m=\u001b[39m \u001b[38;5;241m0.0\u001b[39m\n\u001b[0;32m    161\u001b[0m \u001b[38;5;66;03m# Boosting step\u001b[39;00m\n\u001b[1;32m--> 162\u001b[0m sample_weight, estimator_weight, estimator_error \u001b[38;5;241m=\u001b[39m \u001b[38;5;28;43mself\u001b[39;49m\u001b[38;5;241;43m.\u001b[39;49m\u001b[43m_boost\u001b[49m\u001b[43m(\u001b[49m\n\u001b[0;32m    163\u001b[0m \u001b[43m    \u001b[49m\u001b[43miboost\u001b[49m\u001b[43m,\u001b[49m\u001b[43m \u001b[49m\u001b[43mX\u001b[49m\u001b[43m,\u001b[49m\u001b[43m \u001b[49m\u001b[43my\u001b[49m\u001b[43m,\u001b[49m\u001b[43m \u001b[49m\u001b[43msample_weight\u001b[49m\u001b[43m,\u001b[49m\u001b[43m \u001b[49m\u001b[43mrandom_state\u001b[49m\n\u001b[0;32m    164\u001b[0m \u001b[43m\u001b[49m\u001b[43m)\u001b[49m\n\u001b[0;32m    166\u001b[0m \u001b[38;5;66;03m# Early termination\u001b[39;00m\n\u001b[0;32m    167\u001b[0m \u001b[38;5;28;01mif\u001b[39;00m sample_weight \u001b[38;5;129;01mis\u001b[39;00m \u001b[38;5;28;01mNone\u001b[39;00m:\n",
      "File \u001b[1;32m~\\AppData\\Roaming\\Python\\Python39\\site-packages\\sklearn\\ensemble\\_weight_boosting.py:569\u001b[0m, in \u001b[0;36mAdaBoostClassifier._boost\u001b[1;34m(self, iboost, X, y, sample_weight, random_state)\u001b[0m\n\u001b[0;32m    530\u001b[0m \u001b[38;5;124;03m\"\"\"Implement a single boost.\u001b[39;00m\n\u001b[0;32m    531\u001b[0m \n\u001b[0;32m    532\u001b[0m \u001b[38;5;124;03mPerform a single boost according to the real multi-class SAMME.R\u001b[39;00m\n\u001b[1;32m   (...)\u001b[0m\n\u001b[0;32m    566\u001b[0m \u001b[38;5;124;03m    If None then boosting has terminated early.\u001b[39;00m\n\u001b[0;32m    567\u001b[0m \u001b[38;5;124;03m\"\"\"\u001b[39;00m\n\u001b[0;32m    568\u001b[0m \u001b[38;5;28;01mif\u001b[39;00m \u001b[38;5;28mself\u001b[39m\u001b[38;5;241m.\u001b[39malgorithm \u001b[38;5;241m==\u001b[39m \u001b[38;5;124m\"\u001b[39m\u001b[38;5;124mSAMME.R\u001b[39m\u001b[38;5;124m\"\u001b[39m:\n\u001b[1;32m--> 569\u001b[0m     \u001b[38;5;28;01mreturn\u001b[39;00m \u001b[38;5;28;43mself\u001b[39;49m\u001b[38;5;241;43m.\u001b[39;49m\u001b[43m_boost_real\u001b[49m\u001b[43m(\u001b[49m\u001b[43miboost\u001b[49m\u001b[43m,\u001b[49m\u001b[43m \u001b[49m\u001b[43mX\u001b[49m\u001b[43m,\u001b[49m\u001b[43m \u001b[49m\u001b[43my\u001b[49m\u001b[43m,\u001b[49m\u001b[43m \u001b[49m\u001b[43msample_weight\u001b[49m\u001b[43m,\u001b[49m\u001b[43m \u001b[49m\u001b[43mrandom_state\u001b[49m\u001b[43m)\u001b[49m\n\u001b[0;32m    571\u001b[0m \u001b[38;5;28;01melse\u001b[39;00m:  \u001b[38;5;66;03m# elif self.algorithm == \"SAMME\":\u001b[39;00m\n\u001b[0;32m    572\u001b[0m     \u001b[38;5;28;01mreturn\u001b[39;00m \u001b[38;5;28mself\u001b[39m\u001b[38;5;241m.\u001b[39m_boost_discrete(iboost, X, y, sample_weight, random_state)\n",
      "File \u001b[1;32m~\\AppData\\Roaming\\Python\\Python39\\site-packages\\sklearn\\ensemble\\_weight_boosting.py:578\u001b[0m, in \u001b[0;36mAdaBoostClassifier._boost_real\u001b[1;34m(self, iboost, X, y, sample_weight, random_state)\u001b[0m\n\u001b[0;32m    575\u001b[0m \u001b[38;5;124;03m\"\"\"Implement a single boost using the SAMME.R real algorithm.\"\"\"\u001b[39;00m\n\u001b[0;32m    576\u001b[0m estimator \u001b[38;5;241m=\u001b[39m \u001b[38;5;28mself\u001b[39m\u001b[38;5;241m.\u001b[39m_make_estimator(random_state\u001b[38;5;241m=\u001b[39mrandom_state)\n\u001b[1;32m--> 578\u001b[0m \u001b[43mestimator\u001b[49m\u001b[38;5;241;43m.\u001b[39;49m\u001b[43mfit\u001b[49m\u001b[43m(\u001b[49m\u001b[43mX\u001b[49m\u001b[43m,\u001b[49m\u001b[43m \u001b[49m\u001b[43my\u001b[49m\u001b[43m,\u001b[49m\u001b[43m \u001b[49m\u001b[43msample_weight\u001b[49m\u001b[38;5;241;43m=\u001b[39;49m\u001b[43msample_weight\u001b[49m\u001b[43m)\u001b[49m\n\u001b[0;32m    580\u001b[0m y_predict_proba \u001b[38;5;241m=\u001b[39m estimator\u001b[38;5;241m.\u001b[39mpredict_proba(X)\n\u001b[0;32m    582\u001b[0m \u001b[38;5;28;01mif\u001b[39;00m iboost \u001b[38;5;241m==\u001b[39m \u001b[38;5;241m0\u001b[39m:\n",
      "File \u001b[1;32m~\\AppData\\Roaming\\Python\\Python39\\site-packages\\sklearn\\tree\\_classes.py:889\u001b[0m, in \u001b[0;36mDecisionTreeClassifier.fit\u001b[1;34m(self, X, y, sample_weight, check_input)\u001b[0m\n\u001b[0;32m    859\u001b[0m \u001b[38;5;28;01mdef\u001b[39;00m \u001b[38;5;21mfit\u001b[39m(\u001b[38;5;28mself\u001b[39m, X, y, sample_weight\u001b[38;5;241m=\u001b[39m\u001b[38;5;28;01mNone\u001b[39;00m, check_input\u001b[38;5;241m=\u001b[39m\u001b[38;5;28;01mTrue\u001b[39;00m):\n\u001b[0;32m    860\u001b[0m     \u001b[38;5;124;03m\"\"\"Build a decision tree classifier from the training set (X, y).\u001b[39;00m\n\u001b[0;32m    861\u001b[0m \n\u001b[0;32m    862\u001b[0m \u001b[38;5;124;03m    Parameters\u001b[39;00m\n\u001b[1;32m   (...)\u001b[0m\n\u001b[0;32m    886\u001b[0m \u001b[38;5;124;03m        Fitted estimator.\u001b[39;00m\n\u001b[0;32m    887\u001b[0m \u001b[38;5;124;03m    \"\"\"\u001b[39;00m\n\u001b[1;32m--> 889\u001b[0m     \u001b[38;5;28;43msuper\u001b[39;49m\u001b[43m(\u001b[49m\u001b[43m)\u001b[49m\u001b[38;5;241;43m.\u001b[39;49m\u001b[43mfit\u001b[49m\u001b[43m(\u001b[49m\n\u001b[0;32m    890\u001b[0m \u001b[43m        \u001b[49m\u001b[43mX\u001b[49m\u001b[43m,\u001b[49m\n\u001b[0;32m    891\u001b[0m \u001b[43m        \u001b[49m\u001b[43my\u001b[49m\u001b[43m,\u001b[49m\n\u001b[0;32m    892\u001b[0m \u001b[43m        \u001b[49m\u001b[43msample_weight\u001b[49m\u001b[38;5;241;43m=\u001b[39;49m\u001b[43msample_weight\u001b[49m\u001b[43m,\u001b[49m\n\u001b[0;32m    893\u001b[0m \u001b[43m        \u001b[49m\u001b[43mcheck_input\u001b[49m\u001b[38;5;241;43m=\u001b[39;49m\u001b[43mcheck_input\u001b[49m\u001b[43m,\u001b[49m\n\u001b[0;32m    894\u001b[0m \u001b[43m    \u001b[49m\u001b[43m)\u001b[49m\n\u001b[0;32m    895\u001b[0m     \u001b[38;5;28;01mreturn\u001b[39;00m \u001b[38;5;28mself\u001b[39m\n",
      "File \u001b[1;32m~\\AppData\\Roaming\\Python\\Python39\\site-packages\\sklearn\\tree\\_classes.py:379\u001b[0m, in \u001b[0;36mBaseDecisionTree.fit\u001b[1;34m(self, X, y, sample_weight, check_input)\u001b[0m\n\u001b[0;32m    368\u001b[0m \u001b[38;5;28;01melse\u001b[39;00m:\n\u001b[0;32m    369\u001b[0m     builder \u001b[38;5;241m=\u001b[39m BestFirstTreeBuilder(\n\u001b[0;32m    370\u001b[0m         splitter,\n\u001b[0;32m    371\u001b[0m         min_samples_split,\n\u001b[1;32m   (...)\u001b[0m\n\u001b[0;32m    376\u001b[0m         \u001b[38;5;28mself\u001b[39m\u001b[38;5;241m.\u001b[39mmin_impurity_decrease,\n\u001b[0;32m    377\u001b[0m     )\n\u001b[1;32m--> 379\u001b[0m \u001b[43mbuilder\u001b[49m\u001b[38;5;241;43m.\u001b[39;49m\u001b[43mbuild\u001b[49m\u001b[43m(\u001b[49m\u001b[38;5;28;43mself\u001b[39;49m\u001b[38;5;241;43m.\u001b[39;49m\u001b[43mtree_\u001b[49m\u001b[43m,\u001b[49m\u001b[43m \u001b[49m\u001b[43mX\u001b[49m\u001b[43m,\u001b[49m\u001b[43m \u001b[49m\u001b[43my\u001b[49m\u001b[43m,\u001b[49m\u001b[43m \u001b[49m\u001b[43msample_weight\u001b[49m\u001b[43m)\u001b[49m\n\u001b[0;32m    381\u001b[0m \u001b[38;5;28;01mif\u001b[39;00m \u001b[38;5;28mself\u001b[39m\u001b[38;5;241m.\u001b[39mn_outputs_ \u001b[38;5;241m==\u001b[39m \u001b[38;5;241m1\u001b[39m \u001b[38;5;129;01mand\u001b[39;00m is_classifier(\u001b[38;5;28mself\u001b[39m):\n\u001b[0;32m    382\u001b[0m     \u001b[38;5;28mself\u001b[39m\u001b[38;5;241m.\u001b[39mn_classes_ \u001b[38;5;241m=\u001b[39m \u001b[38;5;28mself\u001b[39m\u001b[38;5;241m.\u001b[39mn_classes_[\u001b[38;5;241m0\u001b[39m]\n",
      "\u001b[1;31mKeyboardInterrupt\u001b[0m: "
     ]
    }
   ],
   "source": [
    "# Define X and y\n",
    "X_variables = ['CreditScore',               'Age',            'Tenure',\n",
    "                 'Balance',     'NumOfProducts',         'HasCrCard',\n",
    "          'IsActiveMember',   'EstimatedSalary',           \n",
    "                    '0', '1', '2', \n",
    "                   '3','4',  '5', \n",
    "                   '6', '7', '8', \n",
    "                   '9', '10', '11', \n",
    "                   '12', '13', '14', \n",
    "                   '15', '16', '17', \n",
    "                   '18', '19', '20',\n",
    "              'avg_tenure',         'new_money',        'age_tenure',\n",
    "                'age_prod',            'Credit',     'Gender_Female',\n",
    "             'Gender_Male',  'Geography_France', 'Geography_Germany',\n",
    "         'Geography_Spain']\n",
    "y_variable = 'Exited'\n",
    "\n",
    "X_train = data_train.loc[:, X_variables]\n",
    "y_train = data_train[y_variable]\n",
    "X_test = data_test.loc[:, X_variables]\n",
    "y_test = data_test[y_variable]\n",
    "\n",
    "# Sampling methods\n",
    "desiredPercentage = 0.5 # Decide the percentage that you want in over/under sampling\n",
    "desiredFraction = desiredPercentage/(1-desiredPercentage)\n",
    "\n",
    "ranOS = RandomOverSampler(sampling_strategy=desiredFraction, random_state=1) # Oversampling\n",
    "ranUS = RandomUnderSampler(sampling_strategy=desiredFraction, random_state=1) # Undersampling\n",
    "smt = SMOTE(k_neighbors=2) # SMOTE (tweak the number of neighbors to maximize results)\n",
    "#TL = TomekLinks('not majority') # TomekLinks\n",
    "\n",
    "sampling_methods=[None, ranOS, ranUS, smt]\n",
    "sampling_method_names=['None', 'Oversampling', 'Undersampling', 'SMOTe']\n",
    "\n",
    "# Define parameter grid. Note: some parameters apply to all model techniques, some only to one or some of them\n",
    "criterion         = [\"gini\"]\n",
    "learning_rate     = [0.05, 0.1, 0.2, 0.5, 1.0]\n",
    "max_depth         = [1, 2, 3, 4, 5, 6, 7, 8]\n",
    "max_features      = [None, 'sqrt', 'log2', 0.5, 0.2, 0.1, 0.05]\n",
    "min_samples_leaf  = [1, 2, 5, 10, 20, 50]\n",
    "min_samples_split = [2, 5, 10, 20, 50, 100, 200]\n",
    "n_estimators      = [10, 20, 50, 100, 200, 500, 1000]\n",
    "splitter          = [\"best\"]\n",
    "subsample         = [0.7, 0.8, 0.9, 1.0]\n",
    "\n",
    "n_iterations = 10 # Number of iterations to use in each random search\n",
    "\n",
    "aucs = pd.DataFrame(index=range(0, len(sampling_methods)), columns=['Sampling method', 'Decision Tree','Random Forest','Adaboost','XGBoost'])\n",
    "for i in range(len(sampling_methods)):\n",
    "    \n",
    "    j='Sampling method'\n",
    "    sampling_method = sampling_methods[i]\n",
    "    sampling_method_name = sampling_method_names[i]\n",
    "    if sampling_method == None:\n",
    "        X_train_balanced, y_train_balanced = X_train, y_train\n",
    "    else:\n",
    "        X_train_balanced, y_train_balanced = sampling_method.fit_resample(X_train, y_train) # Use sampling method\n",
    "    aucs.loc[i,j] = sampling_method_name\n",
    "\n",
    "    # a) Decision Tree CART\n",
    "    j='Decision Tree'\n",
    "    print(sampling_method_name, '-', j)\n",
    "    dt_params = dict(\n",
    "        criterion         = criterion         ,\n",
    "        max_depth         = max_depth         ,\n",
    "        max_features      = max_features      ,\n",
    "        min_samples_leaf  = min_samples_leaf  ,\n",
    "        min_samples_split = min_samples_split ,\n",
    "        splitter          = splitter          \n",
    "    )\n",
    "    dt_search = RandomizedSearchCV(DecisionTreeClassifier(), dt_params, n_iter=n_iterations, verbose=False)\n",
    "    dt_search = dt_search.fit(X_train_balanced, y_train_balanced)\n",
    "    dt_model = dt_search.best_estimator_\n",
    "    preds_proba = dt_model.predict_proba(X_test)\n",
    "    aucs.loc[i,j] = average_precision_score(y_test, preds_proba[:,1])           # Calculate AP\n",
    "    \n",
    "    # b) Random Forest\n",
    "    j='Random Forest'\n",
    "    print(sampling_method_name, '-', j)\n",
    "    rf_params = dict(\n",
    "        criterion         = criterion         ,\n",
    "        max_depth         = max_depth         ,\n",
    "        max_features      = max_features      ,\n",
    "        min_samples_leaf  = min_samples_leaf  ,\n",
    "        min_samples_split = min_samples_split ,\n",
    "        n_estimators      = n_estimators      \n",
    "    )\n",
    "    rf_search = RandomizedSearchCV(RandomForestClassifier(), rf_params, n_iter=n_iterations, verbose=False)\n",
    "    rf_search = rf_search.fit(X_train_balanced, y_train_balanced)\n",
    "    rf_model = rf_search.best_estimator_\n",
    "    preds_proba = rf_model.predict_proba(X_test)\n",
    "    aucs.loc[i,j] = average_precision_score(y_test, preds_proba[:,1])           # Calculate AP\n",
    "    \n",
    "    # c) Adaboost\n",
    "    j='Adaboost'\n",
    "    print(sampling_method_name, '-', j)\n",
    "    ada_params = dict(\n",
    "        base_estimator__criterion         = criterion         ,\n",
    "        learning_rate                     = learning_rate     ,\n",
    "        base_estimator__max_depth         = max_depth         ,\n",
    "        base_estimator__max_features      = max_features      ,\n",
    "        base_estimator__min_samples_leaf  = min_samples_leaf  ,\n",
    "        base_estimator__min_samples_split = min_samples_split ,\n",
    "        n_estimators                      = n_estimators      ,\n",
    "        base_estimator__splitter          = splitter          \n",
    "    )\n",
    "    ada_search = RandomizedSearchCV(AdaBoostClassifier(base_estimator = DecisionTreeClassifier()), ada_params, n_iter=n_iterations, verbose=False)\n",
    "    ada_search = ada_search.fit(X_train_balanced, y_train_balanced)\n",
    "    ada_model = ada_search.best_estimator_\n",
    "    preds_proba = ada_model.predict_proba(X_test)\n",
    "    aucs.loc[i,j] = metrics.auc(fpr, tpr)           # Calculate AUC\n",
    "    \n",
    "    # d) XGBoost\n",
    "    j='XGBoost'\n",
    "    print(sampling_method_name, '-', j)\n",
    "    xgb_params = dict(\n",
    "        learning_rate     = learning_rate     ,\n",
    "        max_depth         = max_depth         ,\n",
    "        max_features      = max_features      ,\n",
    "        min_samples_leaf  = min_samples_leaf  ,\n",
    "        min_samples_split = min_samples_split ,\n",
    "        n_estimators      = n_estimators      ,\n",
    "        subsample         = subsample         \n",
    "    )\n",
    "    xgb_search = RandomizedSearchCV(GradientBoostingClassifier(), xgb_params, n_iter=n_iterations, verbose=False)\n",
    "    xgb_search = xgb_search.fit(X_train_balanced, y_train_balanced)\n",
    "    xgb_model = xgb_search.best_estimator_\n",
    "    preds_proba = xgb_model.predict_proba(X_test)\n",
    "    aucs.loc[i,j] = metrics.auc(fpr, tpr)           # Calculate AUC\n",
    "\n",
    "aucs"
   ]
  },
  {
   "cell_type": "code",
   "execution_count": null,
   "metadata": {
    "id": "SLTcpZVwq8sj",
    "outputId": "d1a8bb4e-511d-4a3c-b4ff-4ea4064fd659"
   },
   "outputs": [],
   "source": [
    "# Get feature importances from your model of choice\n",
    "model = xgb_model # Choose between dt_model, rf_model, ada_model, xgb_model\n",
    "\n",
    "importances = model.feature_importances_ \n",
    "std = np.std([importances], axis=0)\n",
    "indices = np.argsort(importances)[::-1]\n",
    "\n",
    "importances_features = []\n",
    "print(\"Feature ranking:\")                    # Print the feature ranking\n",
    "for f in range(X_train.shape[1]):\n",
    "    print(\"Feature %d (%s) %f\" % (indices[f], X_variables[indices[f]], importances[indices[f]]))\n",
    "    importances_features.append(X_variables[indices[f]])\n",
    "\n",
    "plt.figure(figsize=(7.5,5))\n",
    "plt.figure()                                 # Plot the feature importances \n",
    "plt.bar(range(X_train.shape[1]), importances[indices],\n",
    "       color=\"r\", yerr=std[indices], align=\"center\")\n",
    "plt.title(\"Feature importances\")\n",
    "plt.ylabel(\"Importance in terms of decreasing the weighted impurity\")\n",
    "plt.xlabel(\"Feature\")\n",
    "plt.xticks(range(X_train.shape[1]), importances_features, rotation = 30)\n",
    "plt.xlim([-1, X_train.shape[1]])\n",
    "plt.show()"
   ]
  },
  {
   "cell_type": "markdown",
   "metadata": {},
   "source": [
    "<a id=\"9\"></a> \n",
    "\n",
    "\n",
    "## 9. Advanced Models I: LightGBM"
   ]
  },
  {
   "cell_type": "code",
   "execution_count": null,
   "metadata": {},
   "outputs": [],
   "source": [
    "# Import relevant package\n",
    "import lightgbm as lgb\n",
    "import time\n",
    "\n",
    "# Define X and y \n",
    "# X_variables = [''                 # ADJUST VARIABLES TO THOSE YOU WISH TO INCLUDE\n",
    "\n",
    "#               ]\n",
    "# y_variable = ''\n",
    "\n",
    "X_train = data_train.loc[:, X_variables]\n",
    "y_train = data_train[y_variable]\n",
    "X_test = data_test.loc[:, X_variables]\n",
    "y_test = data_test[y_variable]\n",
    "\n",
    "print(X_variables)\n",
    "\n",
    "# a) Set model parameters \n",
    "N_trees           = 100                           # Number of trees that are estimated\n",
    "Max_depth         = -1                            # Maximum depth of each tree (nr of levels); -1 means no limit\n",
    "Learning_rate     = 0.1                           # The learning rate ('eta')\n",
    "Min_child_samples = 10                            # Minimum number of items per bucket\n",
    "Min_child_weight  = 0.001                         # Minimum sum of instance weight (hessian) needed in a child (leaf).\n",
    "Subsample         = 1                             # Subsample ratio of the training instance\n",
    "Num_leaves        = 70                            # Maximum number of leafs per tree\n",
    "\n",
    "# Note: there are way more hyperparameters to tune. You can find them well-explained here: \n",
    "# https://lightgbm.readthedocs.io/en/latest/Parameters-Tuning.html\n",
    "# The values above are not tuned and optimized yet\n",
    "\n",
    "# b) Estimate model\n",
    "lgb_model = lgb.LGBMClassifier(\n",
    "                         n_estimators=N_trees\n",
    "                        ,max_depth=Max_depth \n",
    "                        ,learning_rate=Learning_rate\n",
    "                        ,min_child_weight=Min_child_weight\n",
    "                        ,min_child_samples=Min_child_samples\n",
    "                        ,subsample=Subsample\n",
    "                        ,num_leaves=Num_leaves\n",
    "                       )\n",
    "\n",
    "lgb_model.fit(X_train, y_train)      # Fit the model over the train set\n",
    "\n",
    "# c) Create predictions for the test set\n",
    "preds_proba = lgb_model.predict_proba(X_test)\n",
    "preds = lgb_model.predict(X_test)   # Cut-off point equals 0.5\n",
    "\n",
    "#    Show the first 5 lines of the prediction probabilities and corresponding prediction\n",
    "#pd.concat([pd.DataFrame(preds_proba, columns=[\"Prob. 0\", \"Prob. 1\"]), pd.DataFrame(preds, columns=[\"Prediction\"])], axis=1).head()\n",
    "\n",
    "# d) Evaluate results\n",
    "#    i. Create confusion matrix\n",
    "#print(pd.crosstab(preds, y_test))\n",
    "\n",
    "#    ii. Create classification report\n",
    "#print(classification_report(y_test, preds))\n",
    "f1_lgb_model = f1_score(y_test, preds)\n",
    "\n",
    "#    iii. Get the feature importances of the lgb_modeloost\n",
    "importances = lgb_model.feature_importances_ \n",
    "std = np.std([lgb_model.feature_importances_], axis=0)\n",
    "indices = np.argsort(importances)[::-1]\n",
    "\n",
    "importances_features = []\n",
    "print(\"Feature ranking:\")                    # Print the feature ranking\n",
    "for f in range(X_train.shape[1]):\n",
    "    print(\"Feature %d (%s) %f\" % (indices[f], X_variables[indices[f]], importances[indices[f]]))\n",
    "    importances_features.append(X_variables[indices[f]])\n",
    "\n",
    "if False:\n",
    "    plt.figure(figsize=(7.5,5))\n",
    "    plt.figure()                                 # Plot the feature importances \n",
    "    plt.bar(range(X_train.shape[1]), importances[indices],\n",
    "           color=\"r\", yerr=std[indices], align=\"center\")\n",
    "    plt.title(\"Feature importances\")\n",
    "    plt.ylabel(\"Importance in terms of decreasing the weighted impurity\")\n",
    "    plt.xlabel(\"Feature\")\n",
    "    plt.xticks(range(X_train.shape[1]), importances_features, rotation = 30)\n",
    "    plt.xlim([-1, X_train.shape[1]])\n",
    "    plt.show()\n",
    "\n",
    "# Create ROC curve\n",
    "fpr, tpr, t = metrics.roc_curve(y_test, preds_proba[:,1])\n",
    "\n",
    "# Calculate AUC\n",
    "lgb_model_roc_auc_tree = metrics.auc(fpr, tpr)\n",
    "\n",
    "plt.figure(figsize=(10,6))\n",
    "plt.plot([0,1],[0,1],linestyle = '--',lw = 2,color = 'black')      # Plot results\n",
    "plt.plot(fpr, tpr, lw=2, alpha=0.3, label='Mean ROC Decision Tree LightGBM (AUC = %0.2f)' % (lgb_model_roc_auc_tree))\n",
    "plt.title('ROC curve')\n",
    "plt.ylabel('True Positive Rate')\n",
    "plt.xlabel('False Positive Rate')\n",
    "plt.legend(loc=\"lower right\")\n",
    "plt.show()"
   ]
  },
  {
   "cell_type": "markdown",
   "metadata": {},
   "source": [
    "<a id=\"10\"></a> \n",
    "\n",
    "\n",
    "## 10. Advanced Models II: CatBoost"
   ]
  },
  {
   "cell_type": "code",
   "execution_count": null,
   "metadata": {},
   "outputs": [],
   "source": [
    "# Import relevant package\n",
    "import catboost as cat\n",
    "import time\n",
    "\n",
    "# Define X and y \n",
    "X_variables = ['CreditScore',               'Age',            'Tenure',\n",
    "                 'Balance',     'NumOfProducts',         'HasCrCard',\n",
    "          'IsActiveMember',   'EstimatedSalary',           \n",
    "                    '0', '1', '2', \n",
    "                   '3','4',  '5', \n",
    "                   '6', '7', '8', \n",
    "                   '9', '10', '11', \n",
    "                   '12', '13', '14', \n",
    "                   '15', '16', '17', \n",
    "                   '18', '19', '20',\n",
    "              'avg_tenure',         'new_money',        'age_tenure',\n",
    "                'age_prod',            'Credit',     'Gender_Female',\n",
    "             'Gender_Male', 'Geography'] # Note here how we remove the dummies from Geography\n",
    "\n",
    "X_train = data_train.loc[:, X_variables]\n",
    "y_train = data_train[y_variable]\n",
    "X_test = data_test.loc[:, X_variables]\n",
    "y_test = data_test[y_variable]\n",
    "\n",
    "# Because we use CatBoost, we can leverage its abilitiy to handle categoricals in a clever way\n",
    "# For that, we need the column indices of the cat_features\n",
    "cat_features=[X_variables.index(\"Geography\")]\n",
    "\n",
    "# a) Set model parameters \n",
    "N_trees        = 100                           # Number of trees that are estimated\n",
    "Max_depth      = 5                             # Maximum depth of each tree (nr of levels)\n",
    "Learning_rate  = 1                             # The learning rate ('eta')\n",
    "Subsample      = 1                             # Subsample ratio of the training instance\n",
    "Silent         = True                          # Whether to print messages while running boosting\n",
    "\n",
    "# Note: there are way more hyperparameters to tune. You can find them well-explained here: \n",
    "# https://catboost.ai/docs/concepts/parameter-tuning.html\n",
    "# The values above are not tuned and optimized yet\n",
    "\n",
    "# b) Estimate model\n",
    "cat_model = cat.CatBoostClassifier(\n",
    "                        n_estimators=N_trees\n",
    "                        ,max_depth=Max_depth \n",
    "                        ,learning_rate=Learning_rate\n",
    "                        ,subsample=Subsample\n",
    "                        ,silent=Silent\n",
    "                        ,cat_features=cat_features \n",
    "                       )\n",
    "# You can uncomment the cat_features if you don't want to use this. \n",
    "# Given that we don't have many categories, this should not matter much. \n",
    "# But we leave it up to you to find out what the difference in speed and performance is!\n",
    "\n",
    "cat_model.fit(X_train, y_train)      # Fit the model over the train set\n",
    "\n",
    "# c) Create predictions for the test set\n",
    "preds_proba = cat_model.predict_proba(X_test)\n",
    "preds = cat_model.predict(X_test)   # Cut-off point equals 0.5\n",
    "\n",
    "#    Show the first 5 lines of the prediction probabilities and corresponding prediction\n",
    "#pd.concat([pd.DataFrame(preds_proba, columns=[\"Prob. 0\", \"Prob. 1\"]), pd.DataFrame(preds, columns=[\"Prediction\"])], axis=1).head()\n",
    "\n",
    "# d) Evaluate results\n",
    "#    i. Create confusion matrix\n",
    "#print(pd.crosstab(preds, y_test))\n",
    "\n",
    "#    ii. Create classification report\n",
    "#print(classification_report(y_test, preds))\n",
    "f1_cat_model = f1_score(y_test, preds)\n",
    "\n",
    "#    iii. Get the feature importances of the cat_modeloost\n",
    "importances = cat_model.feature_importances_ \n",
    "std = np.std([cat_model.feature_importances_], axis=0)\n",
    "indices = np.argsort(importances)[::-1]\n",
    "\n",
    "importances_features = []\n",
    "print(\"Feature ranking:\")                    # Print the feature ranking\n",
    "for f in range(X_train.shape[1]):\n",
    "    print(\"Feature %d (%s) %f\" % (indices[f], X_variables[indices[f]], importances[indices[f]]))\n",
    "    importances_features.append(X_variables[indices[f]])\n",
    "\n",
    "if False:\n",
    "    plt.figure(figsize=(7.5,5))\n",
    "    plt.figure()                                 # Plot the feature importances \n",
    "    plt.bar(range(X_train.shape[1]), importances[indices],\n",
    "           color=\"r\", yerr=std[indices], align=\"center\")\n",
    "    plt.title(\"Feature importances\")\n",
    "    plt.ylabel(\"Importance in terms of decreasing the weighted impurity\")\n",
    "    plt.xlabel(\"Feature\")\n",
    "    plt.xticks(range(X_train.shape[1]), importances_features, rotation = 30)\n",
    "    plt.xlim([-1, X_train.shape[1]])\n",
    "    plt.show()\n",
    "\n",
    "# Create ROC curve\n",
    "fpr, tpr, t = metrics.roc_curve(y_test, preds_proba[:,1])\n",
    "\n",
    "# Calculate AUC\n",
    "cat_model_roc_auc_tree = metrics.auc(fpr, tpr)\n",
    "\n",
    "plt.figure(figsize=(10,6))\n",
    "plt.plot([0,1],[0,1],linestyle = '--',lw = 2,color = 'black')      # Plot results\n",
    "plt.plot(fpr, tpr, lw=2, alpha=0.3, label='Mean ROC Decision Tree CatBoost (AUC = %0.2f)' % (cat_model_roc_auc_tree))\n",
    "plt.title('ROC curve')\n",
    "plt.ylabel('True Positive Rate')\n",
    "plt.xlabel('False Positive Rate')\n",
    "plt.legend(loc=\"lower right\")\n",
    "plt.show()"
   ]
  },
  {
   "cell_type": "code",
   "execution_count": null,
   "metadata": {},
   "outputs": [],
   "source": []
  }
 ],
 "metadata": {
  "colab": {
   "collapsed_sections": [],
   "name": "3202 - Churn- solution-easy.ipynb",
   "provenance": [],
   "toc_visible": true
  },
  "kernelspec": {
   "display_name": "Python 3 (ipykernel)",
   "language": "python",
   "name": "python3"
  },
  "language_info": {
   "codemirror_mode": {
    "name": "ipython",
    "version": 3
   },
   "file_extension": ".py",
   "mimetype": "text/x-python",
   "name": "python",
   "nbconvert_exporter": "python",
   "pygments_lexer": "ipython3",
   "version": "3.9.12"
  }
 },
 "nbformat": 4,
 "nbformat_minor": 1
}
